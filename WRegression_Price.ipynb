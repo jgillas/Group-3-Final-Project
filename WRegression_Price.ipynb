{
 "cells": [
  {
   "cell_type": "code",
   "execution_count": 6,
   "id": "e785150a",
   "metadata": {},
   "outputs": [],
   "source": [
    "import numpy as np\n",
    "import pandas as pd\n",
    "from pathlib import Path\n",
    "from sklearn.metrics import balanced_accuracy_score, confusion_matrix, classification_report\n",
    "from sklearn.model_selection import train_test_split\n",
    "import matplotlib.pyplot as mp\n",
    "import seaborn as sb\n",
    "from sklearn.preprocessing import MinMaxScaler\n",
    "from sklearn import metrics\n",
    "from sklearn.svm import SVC\n",
    "from xgboost import XGBClassifier\n",
    "from sklearn.linear_model import LogisticRegression"
   ]
  },
  {
   "cell_type": "code",
   "execution_count": 7,
   "id": "dd93c9f2",
   "metadata": {},
   "outputs": [
    {
     "data": {
      "text/html": [
       "<div>\n",
       "<style scoped>\n",
       "    .dataframe tbody tr th:only-of-type {\n",
       "        vertical-align: middle;\n",
       "    }\n",
       "\n",
       "    .dataframe tbody tr th {\n",
       "        vertical-align: top;\n",
       "    }\n",
       "\n",
       "    .dataframe thead th {\n",
       "        text-align: right;\n",
       "    }\n",
       "</style>\n",
       "<table border=\"1\" class=\"dataframe\">\n",
       "  <thead>\n",
       "    <tr style=\"text-align: right;\">\n",
       "      <th></th>\n",
       "      <th>Name</th>\n",
       "      <th>Country</th>\n",
       "      <th>Region</th>\n",
       "      <th>Winery</th>\n",
       "      <th>Rating</th>\n",
       "      <th>NumberOfRatings</th>\n",
       "      <th>Price</th>\n",
       "      <th>Year</th>\n",
       "    </tr>\n",
       "  </thead>\n",
       "  <tbody>\n",
       "    <tr>\n",
       "      <th>0</th>\n",
       "      <td>Vermentino 2017</td>\n",
       "      <td>Italy</td>\n",
       "      <td>Toscana</td>\n",
       "      <td>Famiglia Castellani</td>\n",
       "      <td>3.8</td>\n",
       "      <td>25</td>\n",
       "      <td>5.65</td>\n",
       "      <td>2017</td>\n",
       "    </tr>\n",
       "    <tr>\n",
       "      <th>1</th>\n",
       "      <td>Ronco Broilo 2010</td>\n",
       "      <td>Italy</td>\n",
       "      <td>Colli Orientali del Friuli</td>\n",
       "      <td>Conte d'Attimis Maniago</td>\n",
       "      <td>4.3</td>\n",
       "      <td>25</td>\n",
       "      <td>44.90</td>\n",
       "      <td>2010</td>\n",
       "    </tr>\n",
       "    <tr>\n",
       "      <th>2</th>\n",
       "      <td>Weisser Schiefer s 2017</td>\n",
       "      <td>Austria</td>\n",
       "      <td>Südburgenland</td>\n",
       "      <td>Weinbau Uwe Schiefer</td>\n",
       "      <td>4.2</td>\n",
       "      <td>25</td>\n",
       "      <td>33.25</td>\n",
       "      <td>2017</td>\n",
       "    </tr>\n",
       "    <tr>\n",
       "      <th>3</th>\n",
       "      <td>Chardonnay 2018</td>\n",
       "      <td>Germany</td>\n",
       "      <td>Rheinhessen</td>\n",
       "      <td>Krämer - Straight</td>\n",
       "      <td>3.9</td>\n",
       "      <td>25</td>\n",
       "      <td>8.99</td>\n",
       "      <td>2018</td>\n",
       "    </tr>\n",
       "    <tr>\n",
       "      <th>4</th>\n",
       "      <td>Maganza Zibibbo 2018</td>\n",
       "      <td>Italy</td>\n",
       "      <td>Terre Siciliane</td>\n",
       "      <td>Luna Gaia</td>\n",
       "      <td>3.9</td>\n",
       "      <td>25</td>\n",
       "      <td>8.60</td>\n",
       "      <td>2018</td>\n",
       "    </tr>\n",
       "  </tbody>\n",
       "</table>\n",
       "</div>"
      ],
      "text/plain": [
       "                      Name  Country                      Region  \\\n",
       "0          Vermentino 2017    Italy                     Toscana   \n",
       "1        Ronco Broilo 2010    Italy  Colli Orientali del Friuli   \n",
       "2  Weisser Schiefer s 2017  Austria               Südburgenland   \n",
       "3          Chardonnay 2018  Germany                 Rheinhessen   \n",
       "4     Maganza Zibibbo 2018    Italy             Terre Siciliane   \n",
       "\n",
       "                    Winery  Rating  NumberOfRatings  Price  Year  \n",
       "0      Famiglia Castellani     3.8               25   5.65  2017  \n",
       "1  Conte d'Attimis Maniago     4.3               25  44.90  2010  \n",
       "2     Weinbau Uwe Schiefer     4.2               25  33.25  2017  \n",
       "3        Krämer - Straight     3.9               25   8.99  2018  \n",
       "4                Luna Gaia     3.9               25   8.60  2018  "
      ]
     },
     "execution_count": 7,
     "metadata": {},
     "output_type": "execute_result"
    }
   ],
   "source": [
    "white_wine = pd.read_csv(Path('Resources/White.csv'))\n",
    "white_wine.head()"
   ]
  },
  {
   "cell_type": "code",
   "execution_count": 8,
   "id": "3b9766e7",
   "metadata": {},
   "outputs": [
    {
     "data": {
      "text/plain": [
       "Name                object\n",
       "Country             object\n",
       "Region              object\n",
       "Winery              object\n",
       "Rating             float64\n",
       "NumberOfRatings      int64\n",
       "Price              float64\n",
       "Year                object\n",
       "dtype: object"
      ]
     },
     "execution_count": 8,
     "metadata": {},
     "output_type": "execute_result"
    }
   ],
   "source": [
    "white_wine.dtypes"
   ]
  },
  {
   "cell_type": "code",
   "execution_count": 9,
   "id": "403bba7b",
   "metadata": {},
   "outputs": [],
   "source": [
    "for i in range(len(white_wine['Price'])):\n",
    "    if white_wine['Price'][i] >= 21:\n",
    "        white_wine.at[i,'Price'] = 1\n",
    "    else:\n",
    "        white_wine.at[i,'Price'] = 0"
   ]
  },
  {
   "cell_type": "code",
   "execution_count": 10,
   "id": "0ff6fb3b",
   "metadata": {},
   "outputs": [
    {
     "data": {
      "text/html": [
       "<div>\n",
       "<style scoped>\n",
       "    .dataframe tbody tr th:only-of-type {\n",
       "        vertical-align: middle;\n",
       "    }\n",
       "\n",
       "    .dataframe tbody tr th {\n",
       "        vertical-align: top;\n",
       "    }\n",
       "\n",
       "    .dataframe thead th {\n",
       "        text-align: right;\n",
       "    }\n",
       "</style>\n",
       "<table border=\"1\" class=\"dataframe\">\n",
       "  <thead>\n",
       "    <tr style=\"text-align: right;\">\n",
       "      <th></th>\n",
       "      <th>Name</th>\n",
       "      <th>Country</th>\n",
       "      <th>Region</th>\n",
       "      <th>Winery</th>\n",
       "      <th>Rating</th>\n",
       "      <th>NumberOfRatings</th>\n",
       "      <th>Price</th>\n",
       "      <th>Year</th>\n",
       "    </tr>\n",
       "  </thead>\n",
       "  <tbody>\n",
       "    <tr>\n",
       "      <th>0</th>\n",
       "      <td>Vermentino 2017</td>\n",
       "      <td>Italy</td>\n",
       "      <td>Toscana</td>\n",
       "      <td>Famiglia Castellani</td>\n",
       "      <td>3.8</td>\n",
       "      <td>25</td>\n",
       "      <td>0.0</td>\n",
       "      <td>2017</td>\n",
       "    </tr>\n",
       "    <tr>\n",
       "      <th>1</th>\n",
       "      <td>Ronco Broilo 2010</td>\n",
       "      <td>Italy</td>\n",
       "      <td>Colli Orientali del Friuli</td>\n",
       "      <td>Conte d'Attimis Maniago</td>\n",
       "      <td>4.3</td>\n",
       "      <td>25</td>\n",
       "      <td>1.0</td>\n",
       "      <td>2010</td>\n",
       "    </tr>\n",
       "    <tr>\n",
       "      <th>2</th>\n",
       "      <td>Weisser Schiefer s 2017</td>\n",
       "      <td>Austria</td>\n",
       "      <td>Südburgenland</td>\n",
       "      <td>Weinbau Uwe Schiefer</td>\n",
       "      <td>4.2</td>\n",
       "      <td>25</td>\n",
       "      <td>1.0</td>\n",
       "      <td>2017</td>\n",
       "    </tr>\n",
       "    <tr>\n",
       "      <th>3</th>\n",
       "      <td>Chardonnay 2018</td>\n",
       "      <td>Germany</td>\n",
       "      <td>Rheinhessen</td>\n",
       "      <td>Krämer - Straight</td>\n",
       "      <td>3.9</td>\n",
       "      <td>25</td>\n",
       "      <td>0.0</td>\n",
       "      <td>2018</td>\n",
       "    </tr>\n",
       "    <tr>\n",
       "      <th>4</th>\n",
       "      <td>Maganza Zibibbo 2018</td>\n",
       "      <td>Italy</td>\n",
       "      <td>Terre Siciliane</td>\n",
       "      <td>Luna Gaia</td>\n",
       "      <td>3.9</td>\n",
       "      <td>25</td>\n",
       "      <td>0.0</td>\n",
       "      <td>2018</td>\n",
       "    </tr>\n",
       "    <tr>\n",
       "      <th>5</th>\n",
       "      <td>Chardonnay 2019</td>\n",
       "      <td>Germany</td>\n",
       "      <td>Pfalz</td>\n",
       "      <td>Schneider</td>\n",
       "      <td>3.7</td>\n",
       "      <td>25</td>\n",
       "      <td>0.0</td>\n",
       "      <td>2019</td>\n",
       "    </tr>\n",
       "    <tr>\n",
       "      <th>6</th>\n",
       "      <td>Goldloch Riesling GG 2016</td>\n",
       "      <td>Germany</td>\n",
       "      <td>Nahe</td>\n",
       "      <td>Diel</td>\n",
       "      <td>4.1</td>\n",
       "      <td>25</td>\n",
       "      <td>1.0</td>\n",
       "      <td>2016</td>\n",
       "    </tr>\n",
       "    <tr>\n",
       "      <th>7</th>\n",
       "      <td>Kieselberg GG 2015</td>\n",
       "      <td>Germany</td>\n",
       "      <td>Pfalz</td>\n",
       "      <td>Von Winning</td>\n",
       "      <td>4.1</td>\n",
       "      <td>25</td>\n",
       "      <td>1.0</td>\n",
       "      <td>2015</td>\n",
       "    </tr>\n",
       "    <tr>\n",
       "      <th>8</th>\n",
       "      <td>Catarratto 2019</td>\n",
       "      <td>Italy</td>\n",
       "      <td>Terre Siciliane</td>\n",
       "      <td>Feudi Branciforti dei Bordonaro</td>\n",
       "      <td>3.8</td>\n",
       "      <td>25</td>\n",
       "      <td>0.0</td>\n",
       "      <td>2019</td>\n",
       "    </tr>\n",
       "    <tr>\n",
       "      <th>9</th>\n",
       "      <td>Safari Pecorino 2017</td>\n",
       "      <td>Italy</td>\n",
       "      <td>Terre di Chieti</td>\n",
       "      <td>Bove</td>\n",
       "      <td>3.4</td>\n",
       "      <td>25</td>\n",
       "      <td>0.0</td>\n",
       "      <td>2017</td>\n",
       "    </tr>\n",
       "    <tr>\n",
       "      <th>10</th>\n",
       "      <td>Sauvignon Veneto 2019</td>\n",
       "      <td>Italy</td>\n",
       "      <td>Veneto</td>\n",
       "      <td>Torresella</td>\n",
       "      <td>3.8</td>\n",
       "      <td>25</td>\n",
       "      <td>0.0</td>\n",
       "      <td>2019</td>\n",
       "    </tr>\n",
       "    <tr>\n",
       "      <th>11</th>\n",
       "      <td>Berg Riesling 2018</td>\n",
       "      <td>France</td>\n",
       "      <td>Alsace</td>\n",
       "      <td>Domaine Pfister</td>\n",
       "      <td>4.2</td>\n",
       "      <td>25</td>\n",
       "      <td>0.0</td>\n",
       "      <td>2018</td>\n",
       "    </tr>\n",
       "    <tr>\n",
       "      <th>12</th>\n",
       "      <td>Grechetto 2018</td>\n",
       "      <td>Italy</td>\n",
       "      <td>Umbria</td>\n",
       "      <td>SIGNÆ</td>\n",
       "      <td>3.6</td>\n",
       "      <td>25</td>\n",
       "      <td>0.0</td>\n",
       "      <td>2018</td>\n",
       "    </tr>\n",
       "    <tr>\n",
       "      <th>13</th>\n",
       "      <td>Riesling 'Le Gallais' Wiltinger Braune Kupp Ka...</td>\n",
       "      <td>Germany</td>\n",
       "      <td>Wiltingen</td>\n",
       "      <td>Egon Müller - Scharzhof</td>\n",
       "      <td>4.3</td>\n",
       "      <td>25</td>\n",
       "      <td>1.0</td>\n",
       "      <td>2018</td>\n",
       "    </tr>\n",
       "    <tr>\n",
       "      <th>14</th>\n",
       "      <td>Unterebner Pinot Grigio 2018</td>\n",
       "      <td>Italy</td>\n",
       "      <td>Südtirol - Alto Adige</td>\n",
       "      <td>Tramin</td>\n",
       "      <td>3.7</td>\n",
       "      <td>25</td>\n",
       "      <td>0.0</td>\n",
       "      <td>2018</td>\n",
       "    </tr>\n",
       "    <tr>\n",
       "      <th>15</th>\n",
       "      <td>The Guv'nor Blanco 2019</td>\n",
       "      <td>Spain</td>\n",
       "      <td>Castilla</td>\n",
       "      <td>Félix Solís</td>\n",
       "      <td>3.7</td>\n",
       "      <td>25</td>\n",
       "      <td>0.0</td>\n",
       "      <td>2019</td>\n",
       "    </tr>\n",
       "    <tr>\n",
       "      <th>16</th>\n",
       "      <td>Oestricher Muschelkalk Riesling Trocken 2018</td>\n",
       "      <td>Germany</td>\n",
       "      <td>Rheingau</td>\n",
       "      <td>Spreitzer</td>\n",
       "      <td>3.8</td>\n",
       "      <td>25</td>\n",
       "      <td>0.0</td>\n",
       "      <td>2018</td>\n",
       "    </tr>\n",
       "    <tr>\n",
       "      <th>17</th>\n",
       "      <td>Mâcon-Prissé 2014</td>\n",
       "      <td>France</td>\n",
       "      <td>Mâcon-Prissé</td>\n",
       "      <td>Les Héritiers du Comte Lafon</td>\n",
       "      <td>3.7</td>\n",
       "      <td>25</td>\n",
       "      <td>1.0</td>\n",
       "      <td>2014</td>\n",
       "    </tr>\n",
       "    <tr>\n",
       "      <th>18</th>\n",
       "      <td>Kallstadter Steinacker Riesling 2015</td>\n",
       "      <td>Germany</td>\n",
       "      <td>Pfalz</td>\n",
       "      <td>Rings</td>\n",
       "      <td>4.0</td>\n",
       "      <td>25</td>\n",
       "      <td>0.0</td>\n",
       "      <td>2015</td>\n",
       "    </tr>\n",
       "    <tr>\n",
       "      <th>19</th>\n",
       "      <td>Kerner Carned 2018</td>\n",
       "      <td>Italy</td>\n",
       "      <td>Südtirol - Alto Adige</td>\n",
       "      <td>Cantina Kaltern</td>\n",
       "      <td>3.7</td>\n",
       "      <td>25</td>\n",
       "      <td>0.0</td>\n",
       "      <td>2018</td>\n",
       "    </tr>\n",
       "  </tbody>\n",
       "</table>\n",
       "</div>"
      ],
      "text/plain": [
       "                                                 Name  Country  \\\n",
       "0                                     Vermentino 2017    Italy   \n",
       "1                                   Ronco Broilo 2010    Italy   \n",
       "2                             Weisser Schiefer s 2017  Austria   \n",
       "3                                     Chardonnay 2018  Germany   \n",
       "4                                Maganza Zibibbo 2018    Italy   \n",
       "5                                     Chardonnay 2019  Germany   \n",
       "6                           Goldloch Riesling GG 2016  Germany   \n",
       "7                                  Kieselberg GG 2015  Germany   \n",
       "8                                     Catarratto 2019    Italy   \n",
       "9                                Safari Pecorino 2017    Italy   \n",
       "10                              Sauvignon Veneto 2019    Italy   \n",
       "11                                 Berg Riesling 2018   France   \n",
       "12                                     Grechetto 2018    Italy   \n",
       "13  Riesling 'Le Gallais' Wiltinger Braune Kupp Ka...  Germany   \n",
       "14                       Unterebner Pinot Grigio 2018    Italy   \n",
       "15                            The Guv'nor Blanco 2019    Spain   \n",
       "16       Oestricher Muschelkalk Riesling Trocken 2018  Germany   \n",
       "17                                  Mâcon-Prissé 2014   France   \n",
       "18               Kallstadter Steinacker Riesling 2015  Germany   \n",
       "19                                 Kerner Carned 2018    Italy   \n",
       "\n",
       "                        Region                           Winery  Rating  \\\n",
       "0                      Toscana              Famiglia Castellani     3.8   \n",
       "1   Colli Orientali del Friuli          Conte d'Attimis Maniago     4.3   \n",
       "2                Südburgenland             Weinbau Uwe Schiefer     4.2   \n",
       "3                  Rheinhessen                Krämer - Straight     3.9   \n",
       "4              Terre Siciliane                        Luna Gaia     3.9   \n",
       "5                        Pfalz                        Schneider     3.7   \n",
       "6                         Nahe                             Diel     4.1   \n",
       "7                        Pfalz                      Von Winning     4.1   \n",
       "8              Terre Siciliane  Feudi Branciforti dei Bordonaro     3.8   \n",
       "9              Terre di Chieti                             Bove     3.4   \n",
       "10                      Veneto                       Torresella     3.8   \n",
       "11                      Alsace                  Domaine Pfister     4.2   \n",
       "12                      Umbria                            SIGNÆ     3.6   \n",
       "13                   Wiltingen          Egon Müller - Scharzhof     4.3   \n",
       "14       Südtirol - Alto Adige                           Tramin     3.7   \n",
       "15                    Castilla                      Félix Solís     3.7   \n",
       "16                    Rheingau                        Spreitzer     3.8   \n",
       "17                Mâcon-Prissé     Les Héritiers du Comte Lafon     3.7   \n",
       "18                       Pfalz                            Rings     4.0   \n",
       "19       Südtirol - Alto Adige                  Cantina Kaltern     3.7   \n",
       "\n",
       "    NumberOfRatings  Price  Year  \n",
       "0                25    0.0  2017  \n",
       "1                25    1.0  2010  \n",
       "2                25    1.0  2017  \n",
       "3                25    0.0  2018  \n",
       "4                25    0.0  2018  \n",
       "5                25    0.0  2019  \n",
       "6                25    1.0  2016  \n",
       "7                25    1.0  2015  \n",
       "8                25    0.0  2019  \n",
       "9                25    0.0  2017  \n",
       "10               25    0.0  2019  \n",
       "11               25    0.0  2018  \n",
       "12               25    0.0  2018  \n",
       "13               25    1.0  2018  \n",
       "14               25    0.0  2018  \n",
       "15               25    0.0  2019  \n",
       "16               25    0.0  2018  \n",
       "17               25    1.0  2014  \n",
       "18               25    0.0  2015  \n",
       "19               25    0.0  2018  "
      ]
     },
     "execution_count": 10,
     "metadata": {},
     "output_type": "execute_result"
    }
   ],
   "source": [
    "white_wine.head(20)"
   ]
  },
  {
   "cell_type": "code",
   "execution_count": 11,
   "id": "e5b4c766",
   "metadata": {},
   "outputs": [
    {
     "data": {
      "text/plain": [
       "Price\n",
       "0.0    2849\n",
       "1.0     915\n",
       "dtype: int64"
      ]
     },
     "execution_count": 11,
     "metadata": {},
     "output_type": "execute_result"
    }
   ],
   "source": [
    "white_wine.value_counts(\"Price\")"
   ]
  },
  {
   "cell_type": "code",
   "execution_count": 12,
   "id": "de40270d",
   "metadata": {},
   "outputs": [],
   "source": [
    "white_wine = white_wine[white_wine.Year != \"N.V.\"]"
   ]
  },
  {
   "cell_type": "code",
   "execution_count": 13,
   "id": "b7ca5327",
   "metadata": {},
   "outputs": [
    {
     "data": {
      "text/plain": [
       "Year\n",
       "2018    1440\n",
       "2017     787\n",
       "2019     588\n",
       "2016     484\n",
       "2015     250\n",
       "2014      85\n",
       "2013      42\n",
       "2012      26\n",
       "2011      24\n",
       "2010       5\n",
       "2006       5\n",
       "2005       4\n",
       "2003       3\n",
       "2007       3\n",
       "2008       3\n",
       "2020       2\n",
       "2009       2\n",
       "2004       2\n",
       "1999       2\n",
       "1998       1\n",
       "1993       1\n",
       "dtype: int64"
      ]
     },
     "execution_count": 13,
     "metadata": {},
     "output_type": "execute_result"
    }
   ],
   "source": [
    "white_wine.value_counts(\"Year\")"
   ]
  },
  {
   "cell_type": "code",
   "execution_count": 14,
   "id": "f91ffa0a",
   "metadata": {},
   "outputs": [],
   "source": [
    "y = white_wine[\"Price\"]\n",
    "\n",
    "X = white_wine.drop(columns=[\"Price\", \"Name\", \"Country\", \"Region\", \"Winery\"])"
   ]
  },
  {
   "cell_type": "code",
   "execution_count": 15,
   "id": "47ac3e04",
   "metadata": {},
   "outputs": [
    {
     "data": {
      "text/plain": [
       "0     0.0\n",
       "1     1.0\n",
       "2     1.0\n",
       "3     0.0\n",
       "4     0.0\n",
       "5     0.0\n",
       "6     1.0\n",
       "7     1.0\n",
       "8     0.0\n",
       "9     0.0\n",
       "10    0.0\n",
       "11    0.0\n",
       "12    0.0\n",
       "13    1.0\n",
       "14    0.0\n",
       "15    0.0\n",
       "16    0.0\n",
       "17    1.0\n",
       "18    0.0\n",
       "19    0.0\n",
       "Name: Price, dtype: float64"
      ]
     },
     "execution_count": 15,
     "metadata": {},
     "output_type": "execute_result"
    }
   ],
   "source": [
    "y.head(20)"
   ]
  },
  {
   "cell_type": "code",
   "execution_count": 16,
   "id": "562f2abb",
   "metadata": {},
   "outputs": [
    {
     "data": {
      "text/html": [
       "<div>\n",
       "<style scoped>\n",
       "    .dataframe tbody tr th:only-of-type {\n",
       "        vertical-align: middle;\n",
       "    }\n",
       "\n",
       "    .dataframe tbody tr th {\n",
       "        vertical-align: top;\n",
       "    }\n",
       "\n",
       "    .dataframe thead th {\n",
       "        text-align: right;\n",
       "    }\n",
       "</style>\n",
       "<table border=\"1\" class=\"dataframe\">\n",
       "  <thead>\n",
       "    <tr style=\"text-align: right;\">\n",
       "      <th></th>\n",
       "      <th>Rating</th>\n",
       "      <th>NumberOfRatings</th>\n",
       "      <th>Year</th>\n",
       "    </tr>\n",
       "  </thead>\n",
       "  <tbody>\n",
       "    <tr>\n",
       "      <th>0</th>\n",
       "      <td>3.8</td>\n",
       "      <td>25</td>\n",
       "      <td>2017</td>\n",
       "    </tr>\n",
       "    <tr>\n",
       "      <th>1</th>\n",
       "      <td>4.3</td>\n",
       "      <td>25</td>\n",
       "      <td>2010</td>\n",
       "    </tr>\n",
       "    <tr>\n",
       "      <th>2</th>\n",
       "      <td>4.2</td>\n",
       "      <td>25</td>\n",
       "      <td>2017</td>\n",
       "    </tr>\n",
       "    <tr>\n",
       "      <th>3</th>\n",
       "      <td>3.9</td>\n",
       "      <td>25</td>\n",
       "      <td>2018</td>\n",
       "    </tr>\n",
       "    <tr>\n",
       "      <th>4</th>\n",
       "      <td>3.9</td>\n",
       "      <td>25</td>\n",
       "      <td>2018</td>\n",
       "    </tr>\n",
       "  </tbody>\n",
       "</table>\n",
       "</div>"
      ],
      "text/plain": [
       "   Rating  NumberOfRatings  Year\n",
       "0     3.8               25  2017\n",
       "1     4.3               25  2010\n",
       "2     4.2               25  2017\n",
       "3     3.9               25  2018\n",
       "4     3.9               25  2018"
      ]
     },
     "execution_count": 16,
     "metadata": {},
     "output_type": "execute_result"
    }
   ],
   "source": [
    "X.head()"
   ]
  },
  {
   "cell_type": "code",
   "execution_count": 17,
   "id": "add15c3d",
   "metadata": {},
   "outputs": [
    {
     "data": {
      "text/plain": [
       "0.0    2844\n",
       "1.0     915\n",
       "Name: Price, dtype: int64"
      ]
     },
     "execution_count": 17,
     "metadata": {},
     "output_type": "execute_result"
    }
   ],
   "source": [
    "y.value_counts()"
   ]
  },
  {
   "cell_type": "code",
   "execution_count": 18,
   "id": "ec1b1e45",
   "metadata": {},
   "outputs": [
    {
     "data": {
      "text/plain": [
       "(2819, 3)"
      ]
     },
     "execution_count": 18,
     "metadata": {},
     "output_type": "execute_result"
    }
   ],
   "source": [
    "# Import the train_test_learn module\n",
    "from sklearn.model_selection import train_test_split\n",
    "\n",
    "# Split the data using train_test_split\n",
    "# Assigned a random_state of 1 to the function\n",
    "\n",
    "from sklearn.model_selection import train_test_split\n",
    "\n",
    "X_train, X_test, y_train, y_test = train_test_split(X, \n",
    "                                                    y, \n",
    "                                                    random_state=1, \n",
    "                                                    stratify=y)\n",
    "X_train.shape"
   ]
  },
  {
   "cell_type": "code",
   "execution_count": 19,
   "id": "9e8e40df",
   "metadata": {},
   "outputs": [
    {
     "data": {
      "text/plain": [
       "LogisticRegression(random_state=1)"
      ]
     },
     "execution_count": 19,
     "metadata": {},
     "output_type": "execute_result"
    }
   ],
   "source": [
    "# Import the LogisticRegression module from SKLearn\n",
    "from sklearn.linear_model import LogisticRegression\n",
    "\n",
    "# Instantiate the Logistic Regression model\n",
    "# Assign a random_state parameter of 1 to the model\n",
    "# YOUR CODE HERE!\n",
    "\n",
    "from sklearn.linear_model import LogisticRegression\n",
    "classifier = LogisticRegression(solver='lbfgs',\n",
    "                                random_state=1)\n",
    "classifier\n",
    "\n",
    "# Fit the model using training data\n",
    "classifier.fit(X_train, y_train)"
   ]
  },
  {
   "cell_type": "code",
   "execution_count": 20,
   "id": "a9ddc740",
   "metadata": {},
   "outputs": [],
   "source": [
    "predictions = classifier.predict(X_test)"
   ]
  },
  {
   "cell_type": "code",
   "execution_count": 21,
   "id": "eb7f0f78",
   "metadata": {},
   "outputs": [
    {
     "data": {
      "text/plain": [
       "0.7468323721433002"
      ]
     },
     "execution_count": 21,
     "metadata": {},
     "output_type": "execute_result"
    }
   ],
   "source": [
    "balanced_accuracy_score(y_test, predictions)"
   ]
  },
  {
   "cell_type": "code",
   "execution_count": 22,
   "id": "28cba7ee",
   "metadata": {},
   "outputs": [
    {
     "name": "stdout",
     "output_type": "stream",
     "text": [
      "[[677  34]\n",
      " [105 124]]\n"
     ]
    }
   ],
   "source": [
    "c_matrix = confusion_matrix(y_test, predictions)\n",
    "print(c_matrix)"
   ]
  },
  {
   "cell_type": "code",
   "execution_count": 23,
   "id": "05571776",
   "metadata": {},
   "outputs": [
    {
     "name": "stdout",
     "output_type": "stream",
     "text": [
      "              precision    recall  f1-score   support\n",
      "\n",
      "         0.0       0.87      0.95      0.91       711\n",
      "         1.0       0.78      0.54      0.64       229\n",
      "\n",
      "    accuracy                           0.85       940\n",
      "   macro avg       0.83      0.75      0.77       940\n",
      "weighted avg       0.85      0.85      0.84       940\n",
      "\n"
     ]
    }
   ],
   "source": [
    "class_report = classification_report(y_test, predictions)\n",
    "print(class_report)"
   ]
  },
  {
   "cell_type": "code",
   "execution_count": 25,
   "id": "a194c577",
   "metadata": {},
   "outputs": [
    {
     "data": {
      "image/png": "[encoded data removed]",
      "text/plain": [
       "<Figure size 720x720 with 4 Axes>"
      ]
     },
     "metadata": {
      "needs_background": "light"
     },
     "output_type": "display_data"
    }
   ],
   "source": [
    "white_wine.hist(bins=20, figsize=(10, 10))\n",
    "mp.show()"
   ]
  },
  {
   "cell_type": "code",
   "execution_count": 26,
   "id": "02e1c1d5",
   "metadata": {},
   "outputs": [
    {
     "name": "stdout",
     "output_type": "stream",
     "text": [
      "                   Rating  NumberOfRatings     Price\n",
      "Rating           1.000000         0.036594  0.524760\n",
      "NumberOfRatings  0.036594         1.000000 -0.051094\n",
      "Price            0.524760        -0.051094  1.000000\n"
     ]
    },
    {
     "data": {
      "image/png": "[encoded data removed]",
      "text/plain": [
       "<Figure size 432x288 with 2 Axes>"
      ]
     },
     "metadata": {
      "needs_background": "light"
     },
     "output_type": "display_data"
    }
   ],
   "source": [
    "print(white_wine.corr())\n",
    "dataplot = sb.heatmap(white_wine.corr(), cmap=\"YlGnBu\", annot=True)\n",
    "  \n",
    "# displaying heatmap\n",
    "mp.show()"
   ]
  },
  {
   "cell_type": "code",
   "execution_count": null,
   "id": "a5d63148",
   "metadata": {},
   "outputs": [],
   "source": []
  }
 ],
 "metadata": {
  "kernelspec": {
   "display_name": "Python [conda env:anaconda3-PythonData] *",
   "language": "python",
   "name": "conda-env-anaconda3-PythonData-py"
  },
  "language_info": {
   "codemirror_mode": {
    "name": "ipython",
    "version": 3
   },
   "file_extension": ".py",
   "mimetype": "text/x-python",
   "name": "python",
   "nbconvert_exporter": "python",
   "pygments_lexer": "ipython3",
   "version": "3.7.7"
  }
 },
 "nbformat": 4,
 "nbformat_minor": 5
}
