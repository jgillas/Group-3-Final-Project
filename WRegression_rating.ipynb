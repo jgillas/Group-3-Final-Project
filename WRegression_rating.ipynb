{
 "cells": [
  {
   "cell_type": "code",
   "execution_count": 4,
   "id": "879caa3f",
   "metadata": {},
   "outputs": [],
   "source": [
    "import numpy as np\n",
    "import pandas as pd\n",
    "from pathlib import Path\n",
    "from sklearn.metrics import balanced_accuracy_score, confusion_matrix, classification_report\n",
    "from sklearn.model_selection import train_test_split\n",
    "import matplotlib.pyplot as mp\n",
    "import seaborn as sb\n",
    "from sklearn.preprocessing import MinMaxScaler\n",
    "from sklearn import metrics\n",
    "from sklearn.svm import SVC\n",
    "from xgboost import XGBClassifier\n",
    "from sklearn.linear_model import LogisticRegression"
   ]
  },
  {
   "cell_type": "code",
   "execution_count": 8,
   "id": "c9f24589",
   "metadata": {},
   "outputs": [
    {
     "data": {
      "text/html": [
       "<div>\n",
       "<style scoped>\n",
       "    .dataframe tbody tr th:only-of-type {\n",
       "        vertical-align: middle;\n",
       "    }\n",
       "\n",
       "    .dataframe tbody tr th {\n",
       "        vertical-align: top;\n",
       "    }\n",
       "\n",
       "    .dataframe thead th {\n",
       "        text-align: right;\n",
       "    }\n",
       "</style>\n",
       "<table border=\"1\" class=\"dataframe\">\n",
       "  <thead>\n",
       "    <tr style=\"text-align: right;\">\n",
       "      <th></th>\n",
       "      <th>Name</th>\n",
       "      <th>Country</th>\n",
       "      <th>Region</th>\n",
       "      <th>Winery</th>\n",
       "      <th>Rating</th>\n",
       "      <th>NumberOfRatings</th>\n",
       "      <th>Price</th>\n",
       "      <th>Year</th>\n",
       "    </tr>\n",
       "  </thead>\n",
       "  <tbody>\n",
       "    <tr>\n",
       "      <th>0</th>\n",
       "      <td>Vermentino 2017</td>\n",
       "      <td>Italy</td>\n",
       "      <td>Toscana</td>\n",
       "      <td>Famiglia Castellani</td>\n",
       "      <td>3.8</td>\n",
       "      <td>25</td>\n",
       "      <td>5.65</td>\n",
       "      <td>2017</td>\n",
       "    </tr>\n",
       "    <tr>\n",
       "      <th>1</th>\n",
       "      <td>Ronco Broilo 2010</td>\n",
       "      <td>Italy</td>\n",
       "      <td>Colli Orientali del Friuli</td>\n",
       "      <td>Conte d'Attimis Maniago</td>\n",
       "      <td>4.3</td>\n",
       "      <td>25</td>\n",
       "      <td>44.90</td>\n",
       "      <td>2010</td>\n",
       "    </tr>\n",
       "    <tr>\n",
       "      <th>2</th>\n",
       "      <td>Weisser Schiefer s 2017</td>\n",
       "      <td>Austria</td>\n",
       "      <td>Südburgenland</td>\n",
       "      <td>Weinbau Uwe Schiefer</td>\n",
       "      <td>4.2</td>\n",
       "      <td>25</td>\n",
       "      <td>33.25</td>\n",
       "      <td>2017</td>\n",
       "    </tr>\n",
       "    <tr>\n",
       "      <th>3</th>\n",
       "      <td>Chardonnay 2018</td>\n",
       "      <td>Germany</td>\n",
       "      <td>Rheinhessen</td>\n",
       "      <td>Krämer - Straight</td>\n",
       "      <td>3.9</td>\n",
       "      <td>25</td>\n",
       "      <td>8.99</td>\n",
       "      <td>2018</td>\n",
       "    </tr>\n",
       "    <tr>\n",
       "      <th>4</th>\n",
       "      <td>Maganza Zibibbo 2018</td>\n",
       "      <td>Italy</td>\n",
       "      <td>Terre Siciliane</td>\n",
       "      <td>Luna Gaia</td>\n",
       "      <td>3.9</td>\n",
       "      <td>25</td>\n",
       "      <td>8.60</td>\n",
       "      <td>2018</td>\n",
       "    </tr>\n",
       "  </tbody>\n",
       "</table>\n",
       "</div>"
      ],
      "text/plain": [
       "                      Name  Country                      Region  \\\n",
       "0          Vermentino 2017    Italy                     Toscana   \n",
       "1        Ronco Broilo 2010    Italy  Colli Orientali del Friuli   \n",
       "2  Weisser Schiefer s 2017  Austria               Südburgenland   \n",
       "3          Chardonnay 2018  Germany                 Rheinhessen   \n",
       "4     Maganza Zibibbo 2018    Italy             Terre Siciliane   \n",
       "\n",
       "                    Winery  Rating  NumberOfRatings  Price  Year  \n",
       "0      Famiglia Castellani     3.8               25   5.65  2017  \n",
       "1  Conte d'Attimis Maniago     4.3               25  44.90  2010  \n",
       "2     Weinbau Uwe Schiefer     4.2               25  33.25  2017  \n",
       "3        Krämer - Straight     3.9               25   8.99  2018  \n",
       "4                Luna Gaia     3.9               25   8.60  2018  "
      ]
     },
     "execution_count": 8,
     "metadata": {},
     "output_type": "execute_result"
    }
   ],
   "source": [
    "white_wine = pd.read_csv(Path('Resources/White.csv'))\n",
    "white_wine.head()"
   ]
  },
  {
   "cell_type": "code",
   "execution_count": 9,
   "id": "b026a531",
   "metadata": {},
   "outputs": [],
   "source": [
    "for i in range(len(white_wine['Rating'])):\n",
    "    if white_wine['Rating'][i] >= 4:\n",
    "        white_wine.at[i,'Rating'] = 1\n",
    "    else:\n",
    "        white_wine.at[i,'Rating'] = 0"
   ]
  },
  {
   "cell_type": "code",
   "execution_count": 10,
   "id": "eb60efbf",
   "metadata": {},
   "outputs": [
    {
     "data": {
      "text/plain": [
       "Rating\n",
       "0.0    2653\n",
       "1.0    1111\n",
       "dtype: int64"
      ]
     },
     "execution_count": 10,
     "metadata": {},
     "output_type": "execute_result"
    }
   ],
   "source": [
    "white_wine.value_counts(\"Rating\")"
   ]
  },
  {
   "cell_type": "code",
   "execution_count": 5,
   "id": "ca8321d1",
   "metadata": {},
   "outputs": [],
   "source": [
    "white_wine = white_wine[white_wine.Year != \"N.V.\"]"
   ]
  },
  {
   "cell_type": "code",
   "execution_count": 6,
   "id": "d9cc2fcc",
   "metadata": {},
   "outputs": [
    {
     "data": {
      "text/plain": [
       "Year\n",
       "2018    1440\n",
       "2017     787\n",
       "2019     588\n",
       "2016     484\n",
       "2015     250\n",
       "2014      85\n",
       "2013      42\n",
       "2012      26\n",
       "2011      24\n",
       "2010       5\n",
       "2006       5\n",
       "2005       4\n",
       "2003       3\n",
       "2007       3\n",
       "2008       3\n",
       "2020       2\n",
       "2009       2\n",
       "2004       2\n",
       "1999       2\n",
       "1998       1\n",
       "1993       1\n",
       "dtype: int64"
      ]
     },
     "execution_count": 6,
     "metadata": {},
     "output_type": "execute_result"
    }
   ],
   "source": [
    "white_wine.value_counts(\"Year\")"
   ]
  },
  {
   "cell_type": "code",
   "execution_count": 7,
   "id": "ce84c0bf",
   "metadata": {},
   "outputs": [
    {
     "name": "stdout",
     "output_type": "stream",
     "text": [
      "1.0\n"
     ]
    }
   ],
   "source": [
    "print(white_wine.Rating.min())"
   ]
  },
  {
   "cell_type": "code",
   "execution_count": 8,
   "id": "4fdcdb6d",
   "metadata": {},
   "outputs": [],
   "source": [
    "y = white_wine[\"Rating\"]\n",
    "\n",
    "X = white_wine.drop(columns=[\"Rating\", \"Name\", \"Country\", \"Region\", \"Winery\"])"
   ]
  },
  {
   "cell_type": "code",
   "execution_count": 9,
   "id": "01ac1b26",
   "metadata": {},
   "outputs": [
    {
     "data": {
      "text/plain": [
       "0     1.0\n",
       "1     2.0\n",
       "2     2.0\n",
       "3     1.0\n",
       "4     1.0\n",
       "5     1.0\n",
       "6     2.0\n",
       "7     2.0\n",
       "8     1.0\n",
       "9     1.0\n",
       "10    1.0\n",
       "11    2.0\n",
       "12    1.0\n",
       "13    2.0\n",
       "14    1.0\n",
       "15    1.0\n",
       "16    1.0\n",
       "17    1.0\n",
       "18    2.0\n",
       "19    1.0\n",
       "Name: Rating, dtype: float64"
      ]
     },
     "execution_count": 9,
     "metadata": {},
     "output_type": "execute_result"
    }
   ],
   "source": [
    "y.head(20)"
   ]
  },
  {
   "cell_type": "code",
   "execution_count": 10,
   "id": "3563619e",
   "metadata": {},
   "outputs": [
    {
     "data": {
      "text/html": [
       "<div>\n",
       "<style scoped>\n",
       "    .dataframe tbody tr th:only-of-type {\n",
       "        vertical-align: middle;\n",
       "    }\n",
       "\n",
       "    .dataframe tbody tr th {\n",
       "        vertical-align: top;\n",
       "    }\n",
       "\n",
       "    .dataframe thead th {\n",
       "        text-align: right;\n",
       "    }\n",
       "</style>\n",
       "<table border=\"1\" class=\"dataframe\">\n",
       "  <thead>\n",
       "    <tr style=\"text-align: right;\">\n",
       "      <th></th>\n",
       "      <th>NumberOfRatings</th>\n",
       "      <th>Price</th>\n",
       "      <th>Year</th>\n",
       "    </tr>\n",
       "  </thead>\n",
       "  <tbody>\n",
       "    <tr>\n",
       "      <th>0</th>\n",
       "      <td>25</td>\n",
       "      <td>5.65</td>\n",
       "      <td>2017</td>\n",
       "    </tr>\n",
       "    <tr>\n",
       "      <th>1</th>\n",
       "      <td>25</td>\n",
       "      <td>44.90</td>\n",
       "      <td>2010</td>\n",
       "    </tr>\n",
       "    <tr>\n",
       "      <th>2</th>\n",
       "      <td>25</td>\n",
       "      <td>33.25</td>\n",
       "      <td>2017</td>\n",
       "    </tr>\n",
       "    <tr>\n",
       "      <th>3</th>\n",
       "      <td>25</td>\n",
       "      <td>8.99</td>\n",
       "      <td>2018</td>\n",
       "    </tr>\n",
       "    <tr>\n",
       "      <th>4</th>\n",
       "      <td>25</td>\n",
       "      <td>8.60</td>\n",
       "      <td>2018</td>\n",
       "    </tr>\n",
       "  </tbody>\n",
       "</table>\n",
       "</div>"
      ],
      "text/plain": [
       "   NumberOfRatings  Price  Year\n",
       "0               25   5.65  2017\n",
       "1               25  44.90  2010\n",
       "2               25  33.25  2017\n",
       "3               25   8.99  2018\n",
       "4               25   8.60  2018"
      ]
     },
     "execution_count": 10,
     "metadata": {},
     "output_type": "execute_result"
    }
   ],
   "source": [
    "X.head()"
   ]
  },
  {
   "cell_type": "code",
   "execution_count": 11,
   "id": "db5e829a",
   "metadata": {},
   "outputs": [
    {
     "data": {
      "text/plain": [
       "1.0    2649\n",
       "2.0    1110\n",
       "Name: Rating, dtype: int64"
      ]
     },
     "execution_count": 11,
     "metadata": {},
     "output_type": "execute_result"
    }
   ],
   "source": [
    "y.value_counts()"
   ]
  },
  {
   "cell_type": "code",
   "execution_count": 12,
   "id": "277decbf",
   "metadata": {},
   "outputs": [
    {
     "data": {
      "text/plain": [
       "(2819, 3)"
      ]
     },
     "execution_count": 12,
     "metadata": {},
     "output_type": "execute_result"
    }
   ],
   "source": [
    "# Import the train_test_learn module\n",
    "from sklearn.model_selection import train_test_split\n",
    "\n",
    "# Split the data using train_test_split\n",
    "# Assigned a random_state of 1 to the function\n",
    "\n",
    "from sklearn.model_selection import train_test_split\n",
    "\n",
    "X_train, X_test, y_train, y_test = train_test_split(X, \n",
    "                                                    y, \n",
    "                                                    random_state=1, \n",
    "                                                    stratify=y)\n",
    "X_train.shape"
   ]
  },
  {
   "cell_type": "code",
   "execution_count": 13,
   "id": "8f683e80",
   "metadata": {},
   "outputs": [
    {
     "data": {
      "text/plain": [
       "LogisticRegression(random_state=1)"
      ]
     },
     "execution_count": 13,
     "metadata": {},
     "output_type": "execute_result"
    }
   ],
   "source": [
    "# Import the LogisticRegression module from SKLearn\n",
    "from sklearn.linear_model import LogisticRegression\n",
    "\n",
    "# Instantiate the Logistic Regression model\n",
    "# Assign a random_state parameter of 1 to the model\n",
    "# YOUR CODE HERE!\n",
    "\n",
    "from sklearn.linear_model import LogisticRegression\n",
    "classifier = LogisticRegression(solver='lbfgs',\n",
    "                                random_state=1)\n",
    "classifier\n",
    "\n",
    "# Fit the model using training data\n",
    "classifier.fit(X_train, y_train)"
   ]
  },
  {
   "cell_type": "code",
   "execution_count": 14,
   "id": "63be4246",
   "metadata": {},
   "outputs": [],
   "source": [
    "predictions = classifier.predict(X_test)"
   ]
  },
  {
   "cell_type": "code",
   "execution_count": 15,
   "id": "b74c5165",
   "metadata": {},
   "outputs": [
    {
     "data": {
      "text/plain": [
       "0.7160827229455107"
      ]
     },
     "execution_count": 15,
     "metadata": {},
     "output_type": "execute_result"
    }
   ],
   "source": [
    "balanced_accuracy_score(y_test, predictions)"
   ]
  },
  {
   "cell_type": "code",
   "execution_count": 16,
   "id": "d74647fa",
   "metadata": {},
   "outputs": [
    {
     "name": "stdout",
     "output_type": "stream",
     "text": [
      "[[629  33]\n",
      " [144 134]]\n"
     ]
    }
   ],
   "source": [
    "c_matrix = confusion_matrix(y_test, predictions)\n",
    "print(c_matrix)"
   ]
  },
  {
   "cell_type": "code",
   "execution_count": 17,
   "id": "67baf203",
   "metadata": {},
   "outputs": [
    {
     "name": "stdout",
     "output_type": "stream",
     "text": [
      "              precision    recall  f1-score   support\n",
      "\n",
      "         1.0       0.81      0.95      0.88       662\n",
      "         2.0       0.80      0.48      0.60       278\n",
      "\n",
      "    accuracy                           0.81       940\n",
      "   macro avg       0.81      0.72      0.74       940\n",
      "weighted avg       0.81      0.81      0.80       940\n",
      "\n"
     ]
    }
   ],
   "source": [
    "class_report = classification_report(y_test, predictions)\n",
    "print(class_report)"
   ]
  },
  {
   "cell_type": "code",
   "execution_count": 19,
   "id": "57f5bd4d",
   "metadata": {},
   "outputs": [
    {
     "name": "stdout",
     "output_type": "stream",
     "text": [
      "                   Rating  NumberOfRatings     Price\n",
      "Rating           1.000000         0.016513  0.372298\n",
      "NumberOfRatings  0.016513         1.000000 -0.050213\n",
      "Price            0.372298        -0.050213  1.000000\n"
     ]
    },
    {
     "data": {
      "image/png": "[encoded data removed]",
      "text/plain": [
       "<Figure size 432x288 with 2 Axes>"
      ]
     },
     "metadata": {
      "needs_background": "light"
     },
     "output_type": "display_data"
    }
   ],
   "source": [
    "print(white_wine.corr())\n",
    "dataplot = sb.heatmap(white_wine.corr(), cmap=\"YlGnBu\", annot=True)\n",
    "  \n",
    "# displaying heatmap\n",
    "mp.show()"
   ]
  },
  {
   "cell_type": "code",
   "execution_count": null,
   "id": "f0ee23dd",
   "metadata": {},
   "outputs": [],
   "source": []
  }
 ],
 "metadata": {
  "kernelspec": {
   "display_name": "Python [conda env:anaconda3-PythonData] *",
   "language": "python",
   "name": "conda-env-anaconda3-PythonData-py"
  },
  "language_info": {
   "codemirror_mode": {
    "name": "ipython",
    "version": 3
   },
   "file_extension": ".py",
   "mimetype": "text/x-python",
   "name": "python",
   "nbconvert_exporter": "python",
   "pygments_lexer": "ipython3",
   "version": "3.7.7"
  }
 },
 "nbformat": 4,
 "nbformat_minor": 5
}
