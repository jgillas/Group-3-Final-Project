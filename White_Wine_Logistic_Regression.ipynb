{
 "cells": [
  {
   "cell_type": "code",
   "execution_count": 1,
   "id": "344f88b1",
   "metadata": {},
   "outputs": [],
   "source": [
    "import numpy as np\n",
    "import pandas as pd\n",
    "from pathlib import Path\n",
    "from sklearn.metrics import balanced_accuracy_score, confusion_matrix, classification_report\n",
    "from sklearn.model_selection import train_test_split"
   ]
  },
  {
   "cell_type": "code",
   "execution_count": 2,
   "id": "539b2d0d",
   "metadata": {},
   "outputs": [
    {
     "data": {
      "text/html": [
       "<div>\n",
       "<style scoped>\n",
       "    .dataframe tbody tr th:only-of-type {\n",
       "        vertical-align: middle;\n",
       "    }\n",
       "\n",
       "    .dataframe tbody tr th {\n",
       "        vertical-align: top;\n",
       "    }\n",
       "\n",
       "    .dataframe thead th {\n",
       "        text-align: right;\n",
       "    }\n",
       "</style>\n",
       "<table border=\"1\" class=\"dataframe\">\n",
       "  <thead>\n",
       "    <tr style=\"text-align: right;\">\n",
       "      <th></th>\n",
       "      <th>Name</th>\n",
       "      <th>Country</th>\n",
       "      <th>Region</th>\n",
       "      <th>Winery</th>\n",
       "      <th>Rating</th>\n",
       "      <th>NumberOfRatings</th>\n",
       "      <th>Price</th>\n",
       "      <th>Year</th>\n",
       "    </tr>\n",
       "  </thead>\n",
       "  <tbody>\n",
       "    <tr>\n",
       "      <th>0</th>\n",
       "      <td>Vermentino 2017</td>\n",
       "      <td>Italy</td>\n",
       "      <td>Toscana</td>\n",
       "      <td>Famiglia Castellani</td>\n",
       "      <td>3.8</td>\n",
       "      <td>25</td>\n",
       "      <td>5.65</td>\n",
       "      <td>2017</td>\n",
       "    </tr>\n",
       "    <tr>\n",
       "      <th>1</th>\n",
       "      <td>Ronco Broilo 2010</td>\n",
       "      <td>Italy</td>\n",
       "      <td>Colli Orientali del Friuli</td>\n",
       "      <td>Conte d'Attimis Maniago</td>\n",
       "      <td>4.3</td>\n",
       "      <td>25</td>\n",
       "      <td>44.90</td>\n",
       "      <td>2010</td>\n",
       "    </tr>\n",
       "    <tr>\n",
       "      <th>2</th>\n",
       "      <td>Weisser Schiefer s 2017</td>\n",
       "      <td>Austria</td>\n",
       "      <td>Südburgenland</td>\n",
       "      <td>Weinbau Uwe Schiefer</td>\n",
       "      <td>4.2</td>\n",
       "      <td>25</td>\n",
       "      <td>33.25</td>\n",
       "      <td>2017</td>\n",
       "    </tr>\n",
       "    <tr>\n",
       "      <th>3</th>\n",
       "      <td>Chardonnay 2018</td>\n",
       "      <td>Germany</td>\n",
       "      <td>Rheinhessen</td>\n",
       "      <td>Krämer - Straight</td>\n",
       "      <td>3.9</td>\n",
       "      <td>25</td>\n",
       "      <td>8.99</td>\n",
       "      <td>2018</td>\n",
       "    </tr>\n",
       "    <tr>\n",
       "      <th>4</th>\n",
       "      <td>Maganza Zibibbo 2018</td>\n",
       "      <td>Italy</td>\n",
       "      <td>Terre Siciliane</td>\n",
       "      <td>Luna Gaia</td>\n",
       "      <td>3.9</td>\n",
       "      <td>25</td>\n",
       "      <td>8.60</td>\n",
       "      <td>2018</td>\n",
       "    </tr>\n",
       "  </tbody>\n",
       "</table>\n",
       "</div>"
      ],
      "text/plain": [
       "                      Name  Country                      Region  \\\n",
       "0          Vermentino 2017    Italy                     Toscana   \n",
       "1        Ronco Broilo 2010    Italy  Colli Orientali del Friuli   \n",
       "2  Weisser Schiefer s 2017  Austria               Südburgenland   \n",
       "3          Chardonnay 2018  Germany                 Rheinhessen   \n",
       "4     Maganza Zibibbo 2018    Italy             Terre Siciliane   \n",
       "\n",
       "                    Winery  Rating  NumberOfRatings  Price  Year  \n",
       "0      Famiglia Castellani     3.8               25   5.65  2017  \n",
       "1  Conte d'Attimis Maniago     4.3               25  44.90  2010  \n",
       "2     Weinbau Uwe Schiefer     4.2               25  33.25  2017  \n",
       "3        Krämer - Straight     3.9               25   8.99  2018  \n",
       "4                Luna Gaia     3.9               25   8.60  2018  "
      ]
     },
     "execution_count": 2,
     "metadata": {},
     "output_type": "execute_result"
    }
   ],
   "source": [
    "white_wine = pd.read_csv(Path('Resources/White.csv'))\n",
    "white_wine.head()"
   ]
  },
  {
   "cell_type": "code",
   "execution_count": 3,
   "id": "213210a7",
   "metadata": {},
   "outputs": [
    {
     "data": {
      "text/plain": [
       "Name                object\n",
       "Country             object\n",
       "Region              object\n",
       "Winery              object\n",
       "Rating             float64\n",
       "NumberOfRatings      int64\n",
       "Price              float64\n",
       "Year                object\n",
       "dtype: object"
      ]
     },
     "execution_count": 3,
     "metadata": {},
     "output_type": "execute_result"
    }
   ],
   "source": [
    "white_wine.dtypes"
   ]
  },
  {
   "cell_type": "code",
   "execution_count": 4,
   "id": "0b111657",
   "metadata": {},
   "outputs": [],
   "source": [
    "for i in range(len(white_wine['Price'])):\n",
    "    if white_wine['Price'][i] >= 300:\n",
    "        white_wine.at[i,'Price'] = 2\n",
    "    elif white_wine['Price'][i] <= 50:\n",
    "        white_wine.at[i,'Price'] = 0\n",
    "    else:\n",
    "        white_wine.at[i,'Price'] = 1"
   ]
  },
  {
   "cell_type": "code",
   "execution_count": 5,
   "id": "7b09ae7d",
   "metadata": {},
   "outputs": [
    {
     "data": {
      "text/html": [
       "<div>\n",
       "<style scoped>\n",
       "    .dataframe tbody tr th:only-of-type {\n",
       "        vertical-align: middle;\n",
       "    }\n",
       "\n",
       "    .dataframe tbody tr th {\n",
       "        vertical-align: top;\n",
       "    }\n",
       "\n",
       "    .dataframe thead th {\n",
       "        text-align: right;\n",
       "    }\n",
       "</style>\n",
       "<table border=\"1\" class=\"dataframe\">\n",
       "  <thead>\n",
       "    <tr style=\"text-align: right;\">\n",
       "      <th></th>\n",
       "      <th>Name</th>\n",
       "      <th>Country</th>\n",
       "      <th>Region</th>\n",
       "      <th>Winery</th>\n",
       "      <th>Rating</th>\n",
       "      <th>NumberOfRatings</th>\n",
       "      <th>Price</th>\n",
       "      <th>Year</th>\n",
       "    </tr>\n",
       "  </thead>\n",
       "  <tbody>\n",
       "    <tr>\n",
       "      <th>0</th>\n",
       "      <td>Vermentino 2017</td>\n",
       "      <td>Italy</td>\n",
       "      <td>Toscana</td>\n",
       "      <td>Famiglia Castellani</td>\n",
       "      <td>3.8</td>\n",
       "      <td>25</td>\n",
       "      <td>0.0</td>\n",
       "      <td>2017</td>\n",
       "    </tr>\n",
       "    <tr>\n",
       "      <th>1</th>\n",
       "      <td>Ronco Broilo 2010</td>\n",
       "      <td>Italy</td>\n",
       "      <td>Colli Orientali del Friuli</td>\n",
       "      <td>Conte d'Attimis Maniago</td>\n",
       "      <td>4.3</td>\n",
       "      <td>25</td>\n",
       "      <td>0.0</td>\n",
       "      <td>2010</td>\n",
       "    </tr>\n",
       "    <tr>\n",
       "      <th>2</th>\n",
       "      <td>Weisser Schiefer s 2017</td>\n",
       "      <td>Austria</td>\n",
       "      <td>Südburgenland</td>\n",
       "      <td>Weinbau Uwe Schiefer</td>\n",
       "      <td>4.2</td>\n",
       "      <td>25</td>\n",
       "      <td>0.0</td>\n",
       "      <td>2017</td>\n",
       "    </tr>\n",
       "    <tr>\n",
       "      <th>3</th>\n",
       "      <td>Chardonnay 2018</td>\n",
       "      <td>Germany</td>\n",
       "      <td>Rheinhessen</td>\n",
       "      <td>Krämer - Straight</td>\n",
       "      <td>3.9</td>\n",
       "      <td>25</td>\n",
       "      <td>0.0</td>\n",
       "      <td>2018</td>\n",
       "    </tr>\n",
       "    <tr>\n",
       "      <th>4</th>\n",
       "      <td>Maganza Zibibbo 2018</td>\n",
       "      <td>Italy</td>\n",
       "      <td>Terre Siciliane</td>\n",
       "      <td>Luna Gaia</td>\n",
       "      <td>3.9</td>\n",
       "      <td>25</td>\n",
       "      <td>0.0</td>\n",
       "      <td>2018</td>\n",
       "    </tr>\n",
       "    <tr>\n",
       "      <th>5</th>\n",
       "      <td>Chardonnay 2019</td>\n",
       "      <td>Germany</td>\n",
       "      <td>Pfalz</td>\n",
       "      <td>Schneider</td>\n",
       "      <td>3.7</td>\n",
       "      <td>25</td>\n",
       "      <td>0.0</td>\n",
       "      <td>2019</td>\n",
       "    </tr>\n",
       "    <tr>\n",
       "      <th>6</th>\n",
       "      <td>Goldloch Riesling GG 2016</td>\n",
       "      <td>Germany</td>\n",
       "      <td>Nahe</td>\n",
       "      <td>Diel</td>\n",
       "      <td>4.1</td>\n",
       "      <td>25</td>\n",
       "      <td>0.0</td>\n",
       "      <td>2016</td>\n",
       "    </tr>\n",
       "    <tr>\n",
       "      <th>7</th>\n",
       "      <td>Kieselberg GG 2015</td>\n",
       "      <td>Germany</td>\n",
       "      <td>Pfalz</td>\n",
       "      <td>Von Winning</td>\n",
       "      <td>4.1</td>\n",
       "      <td>25</td>\n",
       "      <td>0.0</td>\n",
       "      <td>2015</td>\n",
       "    </tr>\n",
       "    <tr>\n",
       "      <th>8</th>\n",
       "      <td>Catarratto 2019</td>\n",
       "      <td>Italy</td>\n",
       "      <td>Terre Siciliane</td>\n",
       "      <td>Feudi Branciforti dei Bordonaro</td>\n",
       "      <td>3.8</td>\n",
       "      <td>25</td>\n",
       "      <td>0.0</td>\n",
       "      <td>2019</td>\n",
       "    </tr>\n",
       "    <tr>\n",
       "      <th>9</th>\n",
       "      <td>Safari Pecorino 2017</td>\n",
       "      <td>Italy</td>\n",
       "      <td>Terre di Chieti</td>\n",
       "      <td>Bove</td>\n",
       "      <td>3.4</td>\n",
       "      <td>25</td>\n",
       "      <td>0.0</td>\n",
       "      <td>2017</td>\n",
       "    </tr>\n",
       "    <tr>\n",
       "      <th>10</th>\n",
       "      <td>Sauvignon Veneto 2019</td>\n",
       "      <td>Italy</td>\n",
       "      <td>Veneto</td>\n",
       "      <td>Torresella</td>\n",
       "      <td>3.8</td>\n",
       "      <td>25</td>\n",
       "      <td>0.0</td>\n",
       "      <td>2019</td>\n",
       "    </tr>\n",
       "    <tr>\n",
       "      <th>11</th>\n",
       "      <td>Berg Riesling 2018</td>\n",
       "      <td>France</td>\n",
       "      <td>Alsace</td>\n",
       "      <td>Domaine Pfister</td>\n",
       "      <td>4.2</td>\n",
       "      <td>25</td>\n",
       "      <td>0.0</td>\n",
       "      <td>2018</td>\n",
       "    </tr>\n",
       "    <tr>\n",
       "      <th>12</th>\n",
       "      <td>Grechetto 2018</td>\n",
       "      <td>Italy</td>\n",
       "      <td>Umbria</td>\n",
       "      <td>SIGNÆ</td>\n",
       "      <td>3.6</td>\n",
       "      <td>25</td>\n",
       "      <td>0.0</td>\n",
       "      <td>2018</td>\n",
       "    </tr>\n",
       "    <tr>\n",
       "      <th>13</th>\n",
       "      <td>Riesling 'Le Gallais' Wiltinger Braune Kupp Ka...</td>\n",
       "      <td>Germany</td>\n",
       "      <td>Wiltingen</td>\n",
       "      <td>Egon Müller - Scharzhof</td>\n",
       "      <td>4.3</td>\n",
       "      <td>25</td>\n",
       "      <td>0.0</td>\n",
       "      <td>2018</td>\n",
       "    </tr>\n",
       "    <tr>\n",
       "      <th>14</th>\n",
       "      <td>Unterebner Pinot Grigio 2018</td>\n",
       "      <td>Italy</td>\n",
       "      <td>Südtirol - Alto Adige</td>\n",
       "      <td>Tramin</td>\n",
       "      <td>3.7</td>\n",
       "      <td>25</td>\n",
       "      <td>0.0</td>\n",
       "      <td>2018</td>\n",
       "    </tr>\n",
       "    <tr>\n",
       "      <th>15</th>\n",
       "      <td>The Guv'nor Blanco 2019</td>\n",
       "      <td>Spain</td>\n",
       "      <td>Castilla</td>\n",
       "      <td>Félix Solís</td>\n",
       "      <td>3.7</td>\n",
       "      <td>25</td>\n",
       "      <td>0.0</td>\n",
       "      <td>2019</td>\n",
       "    </tr>\n",
       "    <tr>\n",
       "      <th>16</th>\n",
       "      <td>Oestricher Muschelkalk Riesling Trocken 2018</td>\n",
       "      <td>Germany</td>\n",
       "      <td>Rheingau</td>\n",
       "      <td>Spreitzer</td>\n",
       "      <td>3.8</td>\n",
       "      <td>25</td>\n",
       "      <td>0.0</td>\n",
       "      <td>2018</td>\n",
       "    </tr>\n",
       "    <tr>\n",
       "      <th>17</th>\n",
       "      <td>Mâcon-Prissé 2014</td>\n",
       "      <td>France</td>\n",
       "      <td>Mâcon-Prissé</td>\n",
       "      <td>Les Héritiers du Comte Lafon</td>\n",
       "      <td>3.7</td>\n",
       "      <td>25</td>\n",
       "      <td>0.0</td>\n",
       "      <td>2014</td>\n",
       "    </tr>\n",
       "    <tr>\n",
       "      <th>18</th>\n",
       "      <td>Kallstadter Steinacker Riesling 2015</td>\n",
       "      <td>Germany</td>\n",
       "      <td>Pfalz</td>\n",
       "      <td>Rings</td>\n",
       "      <td>4.0</td>\n",
       "      <td>25</td>\n",
       "      <td>0.0</td>\n",
       "      <td>2015</td>\n",
       "    </tr>\n",
       "    <tr>\n",
       "      <th>19</th>\n",
       "      <td>Kerner Carned 2018</td>\n",
       "      <td>Italy</td>\n",
       "      <td>Südtirol - Alto Adige</td>\n",
       "      <td>Cantina Kaltern</td>\n",
       "      <td>3.7</td>\n",
       "      <td>25</td>\n",
       "      <td>0.0</td>\n",
       "      <td>2018</td>\n",
       "    </tr>\n",
       "  </tbody>\n",
       "</table>\n",
       "</div>"
      ],
      "text/plain": [
       "                                                 Name  Country  \\\n",
       "0                                     Vermentino 2017    Italy   \n",
       "1                                   Ronco Broilo 2010    Italy   \n",
       "2                             Weisser Schiefer s 2017  Austria   \n",
       "3                                     Chardonnay 2018  Germany   \n",
       "4                                Maganza Zibibbo 2018    Italy   \n",
       "5                                     Chardonnay 2019  Germany   \n",
       "6                           Goldloch Riesling GG 2016  Germany   \n",
       "7                                  Kieselberg GG 2015  Germany   \n",
       "8                                     Catarratto 2019    Italy   \n",
       "9                                Safari Pecorino 2017    Italy   \n",
       "10                              Sauvignon Veneto 2019    Italy   \n",
       "11                                 Berg Riesling 2018   France   \n",
       "12                                     Grechetto 2018    Italy   \n",
       "13  Riesling 'Le Gallais' Wiltinger Braune Kupp Ka...  Germany   \n",
       "14                       Unterebner Pinot Grigio 2018    Italy   \n",
       "15                            The Guv'nor Blanco 2019    Spain   \n",
       "16       Oestricher Muschelkalk Riesling Trocken 2018  Germany   \n",
       "17                                  Mâcon-Prissé 2014   France   \n",
       "18               Kallstadter Steinacker Riesling 2015  Germany   \n",
       "19                                 Kerner Carned 2018    Italy   \n",
       "\n",
       "                        Region                           Winery  Rating  \\\n",
       "0                      Toscana              Famiglia Castellani     3.8   \n",
       "1   Colli Orientali del Friuli          Conte d'Attimis Maniago     4.3   \n",
       "2                Südburgenland             Weinbau Uwe Schiefer     4.2   \n",
       "3                  Rheinhessen                Krämer - Straight     3.9   \n",
       "4              Terre Siciliane                        Luna Gaia     3.9   \n",
       "5                        Pfalz                        Schneider     3.7   \n",
       "6                         Nahe                             Diel     4.1   \n",
       "7                        Pfalz                      Von Winning     4.1   \n",
       "8              Terre Siciliane  Feudi Branciforti dei Bordonaro     3.8   \n",
       "9              Terre di Chieti                             Bove     3.4   \n",
       "10                      Veneto                       Torresella     3.8   \n",
       "11                      Alsace                  Domaine Pfister     4.2   \n",
       "12                      Umbria                            SIGNÆ     3.6   \n",
       "13                   Wiltingen          Egon Müller - Scharzhof     4.3   \n",
       "14       Südtirol - Alto Adige                           Tramin     3.7   \n",
       "15                    Castilla                      Félix Solís     3.7   \n",
       "16                    Rheingau                        Spreitzer     3.8   \n",
       "17                Mâcon-Prissé     Les Héritiers du Comte Lafon     3.7   \n",
       "18                       Pfalz                            Rings     4.0   \n",
       "19       Südtirol - Alto Adige                  Cantina Kaltern     3.7   \n",
       "\n",
       "    NumberOfRatings  Price  Year  \n",
       "0                25    0.0  2017  \n",
       "1                25    0.0  2010  \n",
       "2                25    0.0  2017  \n",
       "3                25    0.0  2018  \n",
       "4                25    0.0  2018  \n",
       "5                25    0.0  2019  \n",
       "6                25    0.0  2016  \n",
       "7                25    0.0  2015  \n",
       "8                25    0.0  2019  \n",
       "9                25    0.0  2017  \n",
       "10               25    0.0  2019  \n",
       "11               25    0.0  2018  \n",
       "12               25    0.0  2018  \n",
       "13               25    0.0  2018  \n",
       "14               25    0.0  2018  \n",
       "15               25    0.0  2019  \n",
       "16               25    0.0  2018  \n",
       "17               25    0.0  2014  \n",
       "18               25    0.0  2015  \n",
       "19               25    0.0  2018  "
      ]
     },
     "execution_count": 5,
     "metadata": {},
     "output_type": "execute_result"
    }
   ],
   "source": [
    "white_wine.head(20)"
   ]
  },
  {
   "cell_type": "code",
   "execution_count": 6,
   "id": "042beedf",
   "metadata": {},
   "outputs": [
    {
     "data": {
      "text/plain": [
       "Price\n",
       "0.0    3560\n",
       "1.0     197\n",
       "2.0       7\n",
       "dtype: int64"
      ]
     },
     "execution_count": 6,
     "metadata": {},
     "output_type": "execute_result"
    }
   ],
   "source": [
    "white_wine.value_counts(\"Price\")"
   ]
  },
  {
   "cell_type": "code",
   "execution_count": 7,
   "id": "880355a0",
   "metadata": {},
   "outputs": [],
   "source": [
    "white_wine = white_wine[white_wine.Year != \"N.V.\"]"
   ]
  },
  {
   "cell_type": "code",
   "execution_count": 8,
   "id": "f91f1b82",
   "metadata": {},
   "outputs": [
    {
     "data": {
      "text/plain": [
       "Year\n",
       "2018    1440\n",
       "2017     787\n",
       "2019     588\n",
       "2016     484\n",
       "2015     250\n",
       "2014      85\n",
       "2013      42\n",
       "2012      26\n",
       "2011      24\n",
       "2010       5\n",
       "2006       5\n",
       "2005       4\n",
       "2003       3\n",
       "2007       3\n",
       "2008       3\n",
       "2020       2\n",
       "2009       2\n",
       "2004       2\n",
       "1999       2\n",
       "1998       1\n",
       "1993       1\n",
       "dtype: int64"
      ]
     },
     "execution_count": 8,
     "metadata": {},
     "output_type": "execute_result"
    }
   ],
   "source": [
    "white_wine.value_counts(\"Year\")"
   ]
  },
  {
   "cell_type": "code",
   "execution_count": 10,
   "id": "98a2fef1",
   "metadata": {},
   "outputs": [],
   "source": [
    "y = white_wine[\"Price\"]\n",
    "\n",
    "X = white_wine.drop(columns=[\"Price\", \"Name\", \"Country\", \"Region\", \"Winery\"])"
   ]
  },
  {
   "cell_type": "code",
   "execution_count": 12,
   "id": "b7ec34ce",
   "metadata": {},
   "outputs": [
    {
     "data": {
      "text/plain": [
       "0     0.0\n",
       "1     0.0\n",
       "2     0.0\n",
       "3     0.0\n",
       "4     0.0\n",
       "5     0.0\n",
       "6     0.0\n",
       "7     0.0\n",
       "8     0.0\n",
       "9     0.0\n",
       "10    0.0\n",
       "11    0.0\n",
       "12    0.0\n",
       "13    0.0\n",
       "14    0.0\n",
       "15    0.0\n",
       "16    0.0\n",
       "17    0.0\n",
       "18    0.0\n",
       "19    0.0\n",
       "Name: Price, dtype: float64"
      ]
     },
     "execution_count": 12,
     "metadata": {},
     "output_type": "execute_result"
    }
   ],
   "source": [
    "y.head(20)"
   ]
  },
  {
   "cell_type": "code",
   "execution_count": 13,
   "id": "4f17ccb9",
   "metadata": {},
   "outputs": [
    {
     "data": {
      "text/html": [
       "<div>\n",
       "<style scoped>\n",
       "    .dataframe tbody tr th:only-of-type {\n",
       "        vertical-align: middle;\n",
       "    }\n",
       "\n",
       "    .dataframe tbody tr th {\n",
       "        vertical-align: top;\n",
       "    }\n",
       "\n",
       "    .dataframe thead th {\n",
       "        text-align: right;\n",
       "    }\n",
       "</style>\n",
       "<table border=\"1\" class=\"dataframe\">\n",
       "  <thead>\n",
       "    <tr style=\"text-align: right;\">\n",
       "      <th></th>\n",
       "      <th>Rating</th>\n",
       "      <th>NumberOfRatings</th>\n",
       "      <th>Year</th>\n",
       "    </tr>\n",
       "  </thead>\n",
       "  <tbody>\n",
       "    <tr>\n",
       "      <th>0</th>\n",
       "      <td>3.8</td>\n",
       "      <td>25</td>\n",
       "      <td>2017</td>\n",
       "    </tr>\n",
       "    <tr>\n",
       "      <th>1</th>\n",
       "      <td>4.3</td>\n",
       "      <td>25</td>\n",
       "      <td>2010</td>\n",
       "    </tr>\n",
       "    <tr>\n",
       "      <th>2</th>\n",
       "      <td>4.2</td>\n",
       "      <td>25</td>\n",
       "      <td>2017</td>\n",
       "    </tr>\n",
       "    <tr>\n",
       "      <th>3</th>\n",
       "      <td>3.9</td>\n",
       "      <td>25</td>\n",
       "      <td>2018</td>\n",
       "    </tr>\n",
       "    <tr>\n",
       "      <th>4</th>\n",
       "      <td>3.9</td>\n",
       "      <td>25</td>\n",
       "      <td>2018</td>\n",
       "    </tr>\n",
       "  </tbody>\n",
       "</table>\n",
       "</div>"
      ],
      "text/plain": [
       "   Rating  NumberOfRatings  Year\n",
       "0     3.8               25  2017\n",
       "1     4.3               25  2010\n",
       "2     4.2               25  2017\n",
       "3     3.9               25  2018\n",
       "4     3.9               25  2018"
      ]
     },
     "execution_count": 13,
     "metadata": {},
     "output_type": "execute_result"
    }
   ],
   "source": [
    "X.head()"
   ]
  },
  {
   "cell_type": "code",
   "execution_count": 14,
   "id": "d4e12282",
   "metadata": {},
   "outputs": [
    {
     "data": {
      "text/plain": [
       "0.0    3555\n",
       "1.0     197\n",
       "2.0       7\n",
       "Name: Price, dtype: int64"
      ]
     },
     "execution_count": 14,
     "metadata": {},
     "output_type": "execute_result"
    }
   ],
   "source": [
    "y.value_counts()"
   ]
  },
  {
   "cell_type": "code",
   "execution_count": 15,
   "id": "bb2fb5bc",
   "metadata": {},
   "outputs": [
    {
     "data": {
      "text/plain": [
       "(2819, 3)"
      ]
     },
     "execution_count": 15,
     "metadata": {},
     "output_type": "execute_result"
    }
   ],
   "source": [
    "# Import the train_test_learn module\n",
    "from sklearn.model_selection import train_test_split\n",
    "\n",
    "# Split the data using train_test_split\n",
    "# Assigned a random_state of 1 to the function\n",
    "\n",
    "from sklearn.model_selection import train_test_split\n",
    "\n",
    "X_train, X_test, y_train, y_test = train_test_split(X, \n",
    "                                                    y, \n",
    "                                                    random_state=1, \n",
    "                                                    stratify=y)\n",
    "X_train.shape"
   ]
  },
  {
   "cell_type": "code",
   "execution_count": 16,
   "id": "94adf3d3",
   "metadata": {},
   "outputs": [
    {
     "data": {
      "text/plain": [
       "LogisticRegression(random_state=1)"
      ]
     },
     "execution_count": 16,
     "metadata": {},
     "output_type": "execute_result"
    }
   ],
   "source": [
    "# Import the LogisticRegression module from SKLearn\n",
    "from sklearn.linear_model import LogisticRegression\n",
    "\n",
    "# Instantiate the Logistic Regression model\n",
    "# Assign a random_state parameter of 1 to the model\n",
    "# YOUR CODE HERE!\n",
    "\n",
    "from sklearn.linear_model import LogisticRegression\n",
    "classifier = LogisticRegression(solver='lbfgs',\n",
    "                                random_state=1)\n",
    "classifier\n",
    "\n",
    "# Fit the model using training data\n",
    "classifier.fit(X_train, y_train)"
   ]
  },
  {
   "cell_type": "code",
   "execution_count": 17,
   "id": "257bc822",
   "metadata": {},
   "outputs": [],
   "source": [
    "predictions = classifier.predict(X_test)"
   ]
  },
  {
   "cell_type": "code",
   "execution_count": 35,
   "id": "6d87bd4f",
   "metadata": {},
   "outputs": [
    {
     "name": "stdout",
     "output_type": "stream",
     "text": [
      " Training Data Score: 0.8424973394820858\n",
      " Testing Data Score: 0.8404255319148937\n",
      " Balanced Accuracy Score: 0.6810487974717446\n"
     ]
    }
   ],
   "source": [
    "print(f\" Training Data Score: {ROS_model.score(X_train, y_train)}\")\n",
    "print(f\" Testing Data Score: {ROS_model.score(X_test, y_test)}\")\n",
    "print(f\" Balanced Accuracy Score: {balanced_accuracy_score(y_test, y_prediction)}\")"
   ]
  },
  {
   "cell_type": "code",
   "execution_count": 19,
   "id": "87220941",
   "metadata": {},
   "outputs": [
    {
     "name": "stdout",
     "output_type": "stream",
     "text": [
      "[[887   2   0]\n",
      " [ 38  11   0]\n",
      " [  1   1   0]]\n"
     ]
    }
   ],
   "source": [
    "c_matrix = confusion_matrix(y_test, predictions)\n",
    "print(c_matrix)"
   ]
  },
  {
   "cell_type": "code",
   "execution_count": 20,
   "id": "61a07993",
   "metadata": {},
   "outputs": [
    {
     "name": "stdout",
     "output_type": "stream",
     "text": [
      "              precision    recall  f1-score   support\n",
      "\n",
      "         0.0       0.96      1.00      0.98       889\n",
      "         1.0       0.79      0.22      0.35        49\n",
      "         2.0       0.00      0.00      0.00         2\n",
      "\n",
      "    accuracy                           0.96       940\n",
      "   macro avg       0.58      0.41      0.44       940\n",
      "weighted avg       0.95      0.96      0.94       940\n",
      "\n"
     ]
    },
    {
     "name": "stderr",
     "output_type": "stream",
     "text": [
      "/Users/kianatalavera/opt/anaconda3/envs/PythonData/lib/python3.7/site-packages/sklearn/metrics/_classification.py:1318: UndefinedMetricWarning: Precision and F-score are ill-defined and being set to 0.0 in labels with no predicted samples. Use `zero_division` parameter to control this behavior.\n",
      "  _warn_prf(average, modifier, msg_start, len(result))\n",
      "/Users/kianatalavera/opt/anaconda3/envs/PythonData/lib/python3.7/site-packages/sklearn/metrics/_classification.py:1318: UndefinedMetricWarning: Precision and F-score are ill-defined and being set to 0.0 in labels with no predicted samples. Use `zero_division` parameter to control this behavior.\n",
      "  _warn_prf(average, modifier, msg_start, len(result))\n",
      "/Users/kianatalavera/opt/anaconda3/envs/PythonData/lib/python3.7/site-packages/sklearn/metrics/_classification.py:1318: UndefinedMetricWarning: Precision and F-score are ill-defined and being set to 0.0 in labels with no predicted samples. Use `zero_division` parameter to control this behavior.\n",
      "  _warn_prf(average, modifier, msg_start, len(result))\n"
     ]
    }
   ],
   "source": [
    "class_report = classification_report(y_test, predictions)\n",
    "print(class_report)"
   ]
  },
  {
   "cell_type": "code",
   "execution_count": 22,
   "id": "b7d658b7",
   "metadata": {},
   "outputs": [],
   "source": [
    "# Import the RandomOverSampler module form imbalanced-learn\n",
    "from imblearn.over_sampling import RandomOverSampler\n",
    "\n",
    "# Instantiate the random oversampler model\n",
    "# # Assign a random_state parameter of 1 to the model\n",
    "random_over_sampler=RandomOverSampler(random_state = 1)\n",
    "\n",
    "# Fit the original training data to the random_oversampler model\n",
    "x_resampled, y_resampled = random_over_sampler.fit_resample(X_train, y_train)"
   ]
  },
  {
   "cell_type": "code",
   "execution_count": 23,
   "id": "791120e2",
   "metadata": {},
   "outputs": [
    {
     "data": {
      "text/plain": [
       "0.0    2666\n",
       "1.0    2666\n",
       "2.0    2666\n",
       "Name: Price, dtype: int64"
      ]
     },
     "execution_count": 23,
     "metadata": {},
     "output_type": "execute_result"
    }
   ],
   "source": [
    "y_resampled.value_counts()"
   ]
  },
  {
   "cell_type": "code",
   "execution_count": 25,
   "id": "2f788824",
   "metadata": {},
   "outputs": [],
   "source": [
    "# Instantiate the Logistic Regression model\n",
    "# Assign a random_state parameter of 1 to the model\n",
    "ros_model = LogisticRegression(solver='lbfgs', random_state=1)\n",
    "\n",
    "\n",
    "# Fit the model using the resampled training data\n",
    "ros_model.fit(x_resampled, y_resampled)\n",
    "\n",
    "# Make a prediction using the testing data\n",
    "y_prediction = ros_model.predict(X_test)"
   ]
  },
  {
   "cell_type": "code",
   "execution_count": 26,
   "id": "f34df2a3",
   "metadata": {},
   "outputs": [
    {
     "name": "stdout",
     "output_type": "stream",
     "text": [
      " Balanced Accuracy Score: 0.6810487974717446\n"
     ]
    }
   ],
   "source": [
    "print(f\" Balanced Accuracy Score: {balanced_accuracy_score(y_test, y_prediction)}\")"
   ]
  },
  {
   "cell_type": "code",
   "execution_count": 27,
   "id": "d04f1ea7",
   "metadata": {},
   "outputs": [
    {
     "name": "stdout",
     "output_type": "stream",
     "text": [
      "[[755 128   6]\n",
      " [  9  34   6]\n",
      " [  0   1   1]]\n"
     ]
    }
   ],
   "source": [
    "ros_test_matrix = confusion_matrix(y_test, y_prediction)\n",
    "print(ros_test_matrix)"
   ]
  },
  {
   "cell_type": "code",
   "execution_count": 28,
   "id": "8958efd6",
   "metadata": {},
   "outputs": [
    {
     "name": "stdout",
     "output_type": "stream",
     "text": [
      "              precision    recall  f1-score   support\n",
      "\n",
      "         0.0       0.99      0.85      0.91       889\n",
      "         1.0       0.21      0.69      0.32        49\n",
      "         2.0       0.08      0.50      0.13         2\n",
      "\n",
      "    accuracy                           0.84       940\n",
      "   macro avg       0.42      0.68      0.46       940\n",
      "weighted avg       0.95      0.84      0.88       940\n",
      "\n"
     ]
    }
   ],
   "source": [
    "ros_test_report = classification_report(y_test, y_prediction)\n",
    "print(ros_test_report)"
   ]
  },
  {
   "cell_type": "code",
   "execution_count": null,
   "id": "a6184329",
   "metadata": {},
   "outputs": [],
   "source": []
  }
 ],
 "metadata": {
  "kernelspec": {
   "display_name": "Python 3 (ipykernel)",
   "language": "python",
   "name": "python3"
  },
  "language_info": {
   "codemirror_mode": {
    "name": "ipython",
    "version": 3
   },
   "file_extension": ".py",
   "mimetype": "text/x-python",
   "name": "python",
   "nbconvert_exporter": "python",
   "pygments_lexer": "ipython3",
   "version": "3.9.13"
  }
 },
 "nbformat": 4,
 "nbformat_minor": 5
}
