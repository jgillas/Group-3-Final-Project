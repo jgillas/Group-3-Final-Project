{
 "cells": [
  {
   "cell_type": "code",
   "execution_count": 2,
   "id": "c7ec7a20",
   "metadata": {},
   "outputs": [],
   "source": [
    "import numpy as np\n",
    "import pandas as pd\n",
    "from pathlib import Path\n",
    "from sklearn.metrics import balanced_accuracy_score, confusion_matrix, classification_report\n",
    "from sklearn.model_selection import train_test_split"
   ]
  },
  {
   "cell_type": "code",
   "execution_count": 3,
   "id": "9638f28c",
   "metadata": {},
   "outputs": [
    {
     "data": {
      "text/html": [
       "<div>\n",
       "<style scoped>\n",
       "    .dataframe tbody tr th:only-of-type {\n",
       "        vertical-align: middle;\n",
       "    }\n",
       "\n",
       "    .dataframe tbody tr th {\n",
       "        vertical-align: top;\n",
       "    }\n",
       "\n",
       "    .dataframe thead th {\n",
       "        text-align: right;\n",
       "    }\n",
       "</style>\n",
       "<table border=\"1\" class=\"dataframe\">\n",
       "  <thead>\n",
       "    <tr style=\"text-align: right;\">\n",
       "      <th></th>\n",
       "      <th>Name</th>\n",
       "      <th>Country</th>\n",
       "      <th>Region</th>\n",
       "      <th>Winery</th>\n",
       "      <th>Rating</th>\n",
       "      <th>NumberOfRatings</th>\n",
       "      <th>Price</th>\n",
       "      <th>Year</th>\n",
       "    </tr>\n",
       "  </thead>\n",
       "  <tbody>\n",
       "    <tr>\n",
       "      <th>0</th>\n",
       "      <td>Pomerol 2011</td>\n",
       "      <td>France</td>\n",
       "      <td>Pomerol</td>\n",
       "      <td>Château La Providence</td>\n",
       "      <td>4.2</td>\n",
       "      <td>100</td>\n",
       "      <td>95.00</td>\n",
       "      <td>2011</td>\n",
       "    </tr>\n",
       "    <tr>\n",
       "      <th>1</th>\n",
       "      <td>Lirac 2017</td>\n",
       "      <td>France</td>\n",
       "      <td>Lirac</td>\n",
       "      <td>Château Mont-Redon</td>\n",
       "      <td>4.3</td>\n",
       "      <td>100</td>\n",
       "      <td>15.50</td>\n",
       "      <td>2017</td>\n",
       "    </tr>\n",
       "    <tr>\n",
       "      <th>2</th>\n",
       "      <td>Erta e China Rosso di Toscana 2015</td>\n",
       "      <td>Italy</td>\n",
       "      <td>Toscana</td>\n",
       "      <td>Renzo Masi</td>\n",
       "      <td>3.9</td>\n",
       "      <td>100</td>\n",
       "      <td>7.45</td>\n",
       "      <td>2015</td>\n",
       "    </tr>\n",
       "    <tr>\n",
       "      <th>3</th>\n",
       "      <td>Bardolino 2019</td>\n",
       "      <td>Italy</td>\n",
       "      <td>Bardolino</td>\n",
       "      <td>Cavalchina</td>\n",
       "      <td>3.5</td>\n",
       "      <td>100</td>\n",
       "      <td>8.72</td>\n",
       "      <td>2019</td>\n",
       "    </tr>\n",
       "    <tr>\n",
       "      <th>4</th>\n",
       "      <td>Ried Scheibner Pinot Noir 2016</td>\n",
       "      <td>Austria</td>\n",
       "      <td>Carnuntum</td>\n",
       "      <td>Markowitsch</td>\n",
       "      <td>3.9</td>\n",
       "      <td>100</td>\n",
       "      <td>29.15</td>\n",
       "      <td>2016</td>\n",
       "    </tr>\n",
       "  </tbody>\n",
       "</table>\n",
       "</div>"
      ],
      "text/plain": [
       "                                 Name  Country     Region  \\\n",
       "0                        Pomerol 2011   France    Pomerol   \n",
       "1                          Lirac 2017   France      Lirac   \n",
       "2  Erta e China Rosso di Toscana 2015    Italy    Toscana   \n",
       "3                      Bardolino 2019    Italy  Bardolino   \n",
       "4      Ried Scheibner Pinot Noir 2016  Austria  Carnuntum   \n",
       "\n",
       "                  Winery  Rating  NumberOfRatings  Price  Year  \n",
       "0  Château La Providence     4.2              100  95.00  2011  \n",
       "1     Château Mont-Redon     4.3              100  15.50  2017  \n",
       "2             Renzo Masi     3.9              100   7.45  2015  \n",
       "3             Cavalchina     3.5              100   8.72  2019  \n",
       "4            Markowitsch     3.9              100  29.15  2016  "
      ]
     },
     "execution_count": 3,
     "metadata": {},
     "output_type": "execute_result"
    }
   ],
   "source": [
    "red_wine = pd.read_csv(Path('Resources/Red.csv'))\n",
    "red_wine.head()"
   ]
  },
  {
   "cell_type": "code",
   "execution_count": 15,
   "id": "30b798f0",
   "metadata": {},
   "outputs": [
    {
     "data": {
      "text/plain": [
       "Name                object\n",
       "Country             object\n",
       "Region              object\n",
       "Winery              object\n",
       "Rating             float64\n",
       "NumberOfRatings      int64\n",
       "Price              float64\n",
       "Year                object\n",
       "dtype: object"
      ]
     },
     "execution_count": 15,
     "metadata": {},
     "output_type": "execute_result"
    }
   ],
   "source": [
    "red_wine.dtypes"
   ]
  },
  {
   "cell_type": "code",
   "execution_count": 16,
   "id": "ecb2c94b",
   "metadata": {},
   "outputs": [],
   "source": [
    "for i in range(len(red_wine['Price'])):\n",
    "    if red_wine['Price'][i] >= 300:\n",
    "        red_wine.at[i,'Price'] = 2\n",
    "    elif red_wine['Price'][i] <= 50:\n",
    "        red_wine.at[i,'Price'] = 0\n",
    "    else:\n",
    "        red_wine.at[i,'Price'] = 1\n"
   ]
  },
  {
   "cell_type": "code",
   "execution_count": 18,
   "id": "7bff0c08",
   "metadata": {},
   "outputs": [
    {
     "data": {
      "text/html": [
       "<div>\n",
       "<style scoped>\n",
       "    .dataframe tbody tr th:only-of-type {\n",
       "        vertical-align: middle;\n",
       "    }\n",
       "\n",
       "    .dataframe tbody tr th {\n",
       "        vertical-align: top;\n",
       "    }\n",
       "\n",
       "    .dataframe thead th {\n",
       "        text-align: right;\n",
       "    }\n",
       "</style>\n",
       "<table border=\"1\" class=\"dataframe\">\n",
       "  <thead>\n",
       "    <tr style=\"text-align: right;\">\n",
       "      <th></th>\n",
       "      <th>Name</th>\n",
       "      <th>Country</th>\n",
       "      <th>Region</th>\n",
       "      <th>Winery</th>\n",
       "      <th>Rating</th>\n",
       "      <th>NumberOfRatings</th>\n",
       "      <th>Price</th>\n",
       "      <th>Year</th>\n",
       "    </tr>\n",
       "  </thead>\n",
       "  <tbody>\n",
       "    <tr>\n",
       "      <th>0</th>\n",
       "      <td>Pomerol 2011</td>\n",
       "      <td>France</td>\n",
       "      <td>Pomerol</td>\n",
       "      <td>Château La Providence</td>\n",
       "      <td>4.2</td>\n",
       "      <td>100</td>\n",
       "      <td>1.0</td>\n",
       "      <td>2011</td>\n",
       "    </tr>\n",
       "    <tr>\n",
       "      <th>1</th>\n",
       "      <td>Lirac 2017</td>\n",
       "      <td>France</td>\n",
       "      <td>Lirac</td>\n",
       "      <td>Château Mont-Redon</td>\n",
       "      <td>4.3</td>\n",
       "      <td>100</td>\n",
       "      <td>0.0</td>\n",
       "      <td>2017</td>\n",
       "    </tr>\n",
       "    <tr>\n",
       "      <th>2</th>\n",
       "      <td>Erta e China Rosso di Toscana 2015</td>\n",
       "      <td>Italy</td>\n",
       "      <td>Toscana</td>\n",
       "      <td>Renzo Masi</td>\n",
       "      <td>3.9</td>\n",
       "      <td>100</td>\n",
       "      <td>0.0</td>\n",
       "      <td>2015</td>\n",
       "    </tr>\n",
       "    <tr>\n",
       "      <th>3</th>\n",
       "      <td>Bardolino 2019</td>\n",
       "      <td>Italy</td>\n",
       "      <td>Bardolino</td>\n",
       "      <td>Cavalchina</td>\n",
       "      <td>3.5</td>\n",
       "      <td>100</td>\n",
       "      <td>0.0</td>\n",
       "      <td>2019</td>\n",
       "    </tr>\n",
       "    <tr>\n",
       "      <th>4</th>\n",
       "      <td>Ried Scheibner Pinot Noir 2016</td>\n",
       "      <td>Austria</td>\n",
       "      <td>Carnuntum</td>\n",
       "      <td>Markowitsch</td>\n",
       "      <td>3.9</td>\n",
       "      <td>100</td>\n",
       "      <td>0.0</td>\n",
       "      <td>2016</td>\n",
       "    </tr>\n",
       "    <tr>\n",
       "      <th>5</th>\n",
       "      <td>Gigondas (Nobles Terrasses) 2017</td>\n",
       "      <td>France</td>\n",
       "      <td>Gigondas</td>\n",
       "      <td>Vieux Clocher</td>\n",
       "      <td>3.7</td>\n",
       "      <td>100</td>\n",
       "      <td>0.0</td>\n",
       "      <td>2017</td>\n",
       "    </tr>\n",
       "    <tr>\n",
       "      <th>6</th>\n",
       "      <td>Marion's Vineyard Pinot Noir 2016</td>\n",
       "      <td>New Zealand</td>\n",
       "      <td>Wairarapa</td>\n",
       "      <td>Schubert</td>\n",
       "      <td>4.0</td>\n",
       "      <td>100</td>\n",
       "      <td>0.0</td>\n",
       "      <td>2016</td>\n",
       "    </tr>\n",
       "    <tr>\n",
       "      <th>7</th>\n",
       "      <td>Red Blend 2014</td>\n",
       "      <td>Chile</td>\n",
       "      <td>Itata Valley</td>\n",
       "      <td>Viña La Causa</td>\n",
       "      <td>3.9</td>\n",
       "      <td>100</td>\n",
       "      <td>0.0</td>\n",
       "      <td>2014</td>\n",
       "    </tr>\n",
       "    <tr>\n",
       "      <th>8</th>\n",
       "      <td>Chianti 2015</td>\n",
       "      <td>Italy</td>\n",
       "      <td>Chianti</td>\n",
       "      <td>Castello Montaùto</td>\n",
       "      <td>3.6</td>\n",
       "      <td>100</td>\n",
       "      <td>0.0</td>\n",
       "      <td>2015</td>\n",
       "    </tr>\n",
       "    <tr>\n",
       "      <th>9</th>\n",
       "      <td>Tradition 2014</td>\n",
       "      <td>France</td>\n",
       "      <td>Minervois</td>\n",
       "      <td>Domaine des Aires Hautes</td>\n",
       "      <td>3.5</td>\n",
       "      <td>100</td>\n",
       "      <td>0.0</td>\n",
       "      <td>2014</td>\n",
       "    </tr>\n",
       "    <tr>\n",
       "      <th>10</th>\n",
       "      <td>Chianti Riserva 2013</td>\n",
       "      <td>Italy</td>\n",
       "      <td>Chianti</td>\n",
       "      <td>Poggiotondo</td>\n",
       "      <td>3.9</td>\n",
       "      <td>100</td>\n",
       "      <td>0.0</td>\n",
       "      <td>2013</td>\n",
       "    </tr>\n",
       "    <tr>\n",
       "      <th>11</th>\n",
       "      <td>Descendant 2016</td>\n",
       "      <td>Australia</td>\n",
       "      <td>Barossa</td>\n",
       "      <td>Torbreck</td>\n",
       "      <td>4.3</td>\n",
       "      <td>100</td>\n",
       "      <td>1.0</td>\n",
       "      <td>2016</td>\n",
       "    </tr>\n",
       "    <tr>\n",
       "      <th>12</th>\n",
       "      <td>Les Obriers de la Peira Terrasses du Larzac 2017</td>\n",
       "      <td>France</td>\n",
       "      <td>Terrasses du Larzac</td>\n",
       "      <td>La Pèira en Damaisèla</td>\n",
       "      <td>4.1</td>\n",
       "      <td>100</td>\n",
       "      <td>0.0</td>\n",
       "      <td>2017</td>\n",
       "    </tr>\n",
       "    <tr>\n",
       "      <th>13</th>\n",
       "      <td>Zenas Primitivo 2018</td>\n",
       "      <td>Italy</td>\n",
       "      <td>Puglia</td>\n",
       "      <td>La Bollina</td>\n",
       "      <td>3.6</td>\n",
       "      <td>100</td>\n",
       "      <td>0.0</td>\n",
       "      <td>2018</td>\n",
       "    </tr>\n",
       "    <tr>\n",
       "      <th>14</th>\n",
       "      <td>Cuvée Confidence Côtes du Rhône Rouge 2017</td>\n",
       "      <td>France</td>\n",
       "      <td>Côtes-du-Rhône</td>\n",
       "      <td>Domaine Fond Croze</td>\n",
       "      <td>3.7</td>\n",
       "      <td>100</td>\n",
       "      <td>0.0</td>\n",
       "      <td>2017</td>\n",
       "    </tr>\n",
       "    <tr>\n",
       "      <th>15</th>\n",
       "      <td>Shiraz 2018</td>\n",
       "      <td>Australia</td>\n",
       "      <td>South Eastern Australia</td>\n",
       "      <td>Barramundi</td>\n",
       "      <td>3.2</td>\n",
       "      <td>100</td>\n",
       "      <td>0.0</td>\n",
       "      <td>2018</td>\n",
       "    </tr>\n",
       "    <tr>\n",
       "      <th>16</th>\n",
       "      <td>Proprietor's Blend 2016</td>\n",
       "      <td>South Africa</td>\n",
       "      <td>Stellenbosch</td>\n",
       "      <td>Ernie Els</td>\n",
       "      <td>4.2</td>\n",
       "      <td>100</td>\n",
       "      <td>0.0</td>\n",
       "      <td>2016</td>\n",
       "    </tr>\n",
       "    <tr>\n",
       "      <th>17</th>\n",
       "      <td>La Bienquerida 2016</td>\n",
       "      <td>Spain</td>\n",
       "      <td>Bierzo</td>\n",
       "      <td>Losada</td>\n",
       "      <td>4.3</td>\n",
       "      <td>100</td>\n",
       "      <td>0.0</td>\n",
       "      <td>2016</td>\n",
       "    </tr>\n",
       "    <tr>\n",
       "      <th>18</th>\n",
       "      <td>Cabernet Sauvignon 2015</td>\n",
       "      <td>United States</td>\n",
       "      <td>California</td>\n",
       "      <td>Hacienda</td>\n",
       "      <td>3.8</td>\n",
       "      <td>100</td>\n",
       "      <td>0.0</td>\n",
       "      <td>2015</td>\n",
       "    </tr>\n",
       "    <tr>\n",
       "      <th>19</th>\n",
       "      <td>Fulgeo Negroamaro Salento 2016</td>\n",
       "      <td>Italy</td>\n",
       "      <td>Salento</td>\n",
       "      <td>San Donaci</td>\n",
       "      <td>4.0</td>\n",
       "      <td>100</td>\n",
       "      <td>0.0</td>\n",
       "      <td>2016</td>\n",
       "    </tr>\n",
       "  </tbody>\n",
       "</table>\n",
       "</div>"
      ],
      "text/plain": [
       "                                                Name        Country  \\\n",
       "0                                       Pomerol 2011         France   \n",
       "1                                         Lirac 2017         France   \n",
       "2                 Erta e China Rosso di Toscana 2015          Italy   \n",
       "3                                     Bardolino 2019          Italy   \n",
       "4                     Ried Scheibner Pinot Noir 2016        Austria   \n",
       "5                   Gigondas (Nobles Terrasses) 2017         France   \n",
       "6                  Marion's Vineyard Pinot Noir 2016    New Zealand   \n",
       "7                                     Red Blend 2014          Chile   \n",
       "8                                       Chianti 2015          Italy   \n",
       "9                                     Tradition 2014         France   \n",
       "10                              Chianti Riserva 2013          Italy   \n",
       "11                                   Descendant 2016      Australia   \n",
       "12  Les Obriers de la Peira Terrasses du Larzac 2017         France   \n",
       "13                              Zenas Primitivo 2018          Italy   \n",
       "14        Cuvée Confidence Côtes du Rhône Rouge 2017         France   \n",
       "15                                       Shiraz 2018      Australia   \n",
       "16                           Proprietor's Blend 2016   South Africa   \n",
       "17                               La Bienquerida 2016          Spain   \n",
       "18                           Cabernet Sauvignon 2015  United States   \n",
       "19                    Fulgeo Negroamaro Salento 2016          Italy   \n",
       "\n",
       "                     Region                    Winery  Rating  \\\n",
       "0                   Pomerol     Château La Providence     4.2   \n",
       "1                     Lirac        Château Mont-Redon     4.3   \n",
       "2                   Toscana                Renzo Masi     3.9   \n",
       "3                 Bardolino                Cavalchina     3.5   \n",
       "4                 Carnuntum               Markowitsch     3.9   \n",
       "5                  Gigondas             Vieux Clocher     3.7   \n",
       "6                 Wairarapa                  Schubert     4.0   \n",
       "7              Itata Valley             Viña La Causa     3.9   \n",
       "8                   Chianti         Castello Montaùto     3.6   \n",
       "9                 Minervois  Domaine des Aires Hautes     3.5   \n",
       "10                  Chianti               Poggiotondo     3.9   \n",
       "11                  Barossa                  Torbreck     4.3   \n",
       "12      Terrasses du Larzac     La Pèira en Damaisèla     4.1   \n",
       "13                   Puglia                La Bollina     3.6   \n",
       "14           Côtes-du-Rhône        Domaine Fond Croze     3.7   \n",
       "15  South Eastern Australia                Barramundi     3.2   \n",
       "16             Stellenbosch                 Ernie Els     4.2   \n",
       "17                   Bierzo                    Losada     4.3   \n",
       "18               California                  Hacienda     3.8   \n",
       "19                  Salento                San Donaci     4.0   \n",
       "\n",
       "    NumberOfRatings  Price  Year  \n",
       "0               100    1.0  2011  \n",
       "1               100    0.0  2017  \n",
       "2               100    0.0  2015  \n",
       "3               100    0.0  2019  \n",
       "4               100    0.0  2016  \n",
       "5               100    0.0  2017  \n",
       "6               100    0.0  2016  \n",
       "7               100    0.0  2014  \n",
       "8               100    0.0  2015  \n",
       "9               100    0.0  2014  \n",
       "10              100    0.0  2013  \n",
       "11              100    1.0  2016  \n",
       "12              100    0.0  2017  \n",
       "13              100    0.0  2018  \n",
       "14              100    0.0  2017  \n",
       "15              100    0.0  2018  \n",
       "16              100    0.0  2016  \n",
       "17              100    0.0  2016  \n",
       "18              100    0.0  2015  \n",
       "19              100    0.0  2016  "
      ]
     },
     "execution_count": 18,
     "metadata": {},
     "output_type": "execute_result"
    }
   ],
   "source": [
    "red_wine.head(20)"
   ]
  },
  {
   "cell_type": "code",
   "execution_count": 19,
   "id": "fdf61630",
   "metadata": {},
   "outputs": [
    {
     "data": {
      "text/plain": [
       "Price\n",
       "0.0    7139\n",
       "1.0    1407\n",
       "2.0     120\n",
       "dtype: int64"
      ]
     },
     "execution_count": 19,
     "metadata": {},
     "output_type": "execute_result"
    }
   ],
   "source": [
    "red_wine.value_counts(\"Price\")"
   ]
  },
  {
   "cell_type": "code",
   "execution_count": 21,
   "id": "421e99da",
   "metadata": {},
   "outputs": [],
   "source": [
    "red_wine = red_wine[red_wine.Year != \"N.V.\"]"
   ]
  },
  {
   "cell_type": "code",
   "execution_count": 23,
   "id": "1592a362",
   "metadata": {},
   "outputs": [
    {
     "data": {
      "text/plain": [
       "Year\n",
       "2016    1776\n",
       "2017    1558\n",
       "2015    1396\n",
       "2018    1099\n",
       "2014     798\n",
       "2013     564\n",
       "2012     371\n",
       "2011     278\n",
       "2010     174\n",
       "2005     154\n",
       "2019     116\n",
       "2009      84\n",
       "2008      80\n",
       "2006      44\n",
       "2007      43\n",
       "2004      27\n",
       "2000      19\n",
       "1999      15\n",
       "2001      12\n",
       "2003      11\n",
       "2002       7\n",
       "1997       7\n",
       "1998       6\n",
       "1996       5\n",
       "1995       4\n",
       "1992       3\n",
       "1989       2\n",
       "1990       2\n",
       "1993       1\n",
       "1991       1\n",
       "1988       1\n",
       "dtype: int64"
      ]
     },
     "execution_count": 23,
     "metadata": {},
     "output_type": "execute_result"
    }
   ],
   "source": [
    "red_wine.value_counts(\"Year\")"
   ]
  },
  {
   "cell_type": "code",
   "execution_count": 32,
   "id": "40d04723",
   "metadata": {},
   "outputs": [],
   "source": [
    "y = red_wine[\"Price\"]\n",
    "\n",
    "X = red_wine.drop(columns=[\"Price\", \"Name\", \"Country\", \"Region\", \"Winery\"])"
   ]
  },
  {
   "cell_type": "code",
   "execution_count": 25,
   "id": "33b4a553",
   "metadata": {},
   "outputs": [
    {
     "data": {
      "text/plain": [
       "0    1.0\n",
       "1    0.0\n",
       "2    0.0\n",
       "3    0.0\n",
       "4    0.0\n",
       "Name: Price, dtype: float64"
      ]
     },
     "execution_count": 25,
     "metadata": {},
     "output_type": "execute_result"
    }
   ],
   "source": [
    "y.head()"
   ]
  },
  {
   "cell_type": "code",
   "execution_count": 33,
   "id": "1791eb5c",
   "metadata": {},
   "outputs": [
    {
     "data": {
      "text/html": [
       "<div>\n",
       "<style scoped>\n",
       "    .dataframe tbody tr th:only-of-type {\n",
       "        vertical-align: middle;\n",
       "    }\n",
       "\n",
       "    .dataframe tbody tr th {\n",
       "        vertical-align: top;\n",
       "    }\n",
       "\n",
       "    .dataframe thead th {\n",
       "        text-align: right;\n",
       "    }\n",
       "</style>\n",
       "<table border=\"1\" class=\"dataframe\">\n",
       "  <thead>\n",
       "    <tr style=\"text-align: right;\">\n",
       "      <th></th>\n",
       "      <th>Rating</th>\n",
       "      <th>NumberOfRatings</th>\n",
       "      <th>Year</th>\n",
       "    </tr>\n",
       "  </thead>\n",
       "  <tbody>\n",
       "    <tr>\n",
       "      <th>0</th>\n",
       "      <td>4.2</td>\n",
       "      <td>100</td>\n",
       "      <td>2011</td>\n",
       "    </tr>\n",
       "    <tr>\n",
       "      <th>1</th>\n",
       "      <td>4.3</td>\n",
       "      <td>100</td>\n",
       "      <td>2017</td>\n",
       "    </tr>\n",
       "    <tr>\n",
       "      <th>2</th>\n",
       "      <td>3.9</td>\n",
       "      <td>100</td>\n",
       "      <td>2015</td>\n",
       "    </tr>\n",
       "    <tr>\n",
       "      <th>3</th>\n",
       "      <td>3.5</td>\n",
       "      <td>100</td>\n",
       "      <td>2019</td>\n",
       "    </tr>\n",
       "    <tr>\n",
       "      <th>4</th>\n",
       "      <td>3.9</td>\n",
       "      <td>100</td>\n",
       "      <td>2016</td>\n",
       "    </tr>\n",
       "  </tbody>\n",
       "</table>\n",
       "</div>"
      ],
      "text/plain": [
       "   Rating  NumberOfRatings  Year\n",
       "0     4.2              100  2011\n",
       "1     4.3              100  2017\n",
       "2     3.9              100  2015\n",
       "3     3.5              100  2019\n",
       "4     3.9              100  2016"
      ]
     },
     "execution_count": 33,
     "metadata": {},
     "output_type": "execute_result"
    }
   ],
   "source": [
    "X.head()"
   ]
  },
  {
   "cell_type": "code",
   "execution_count": 34,
   "id": "8844b44f",
   "metadata": {},
   "outputs": [
    {
     "data": {
      "text/plain": [
       "0.0    7132\n",
       "1.0    1406\n",
       "2.0     120\n",
       "Name: Price, dtype: int64"
      ]
     },
     "execution_count": 34,
     "metadata": {},
     "output_type": "execute_result"
    }
   ],
   "source": [
    "y.value_counts()"
   ]
  },
  {
   "cell_type": "code",
   "execution_count": 35,
   "id": "9b3f5572",
   "metadata": {},
   "outputs": [
    {
     "data": {
      "text/plain": [
       "(6493, 3)"
      ]
     },
     "execution_count": 35,
     "metadata": {},
     "output_type": "execute_result"
    }
   ],
   "source": [
    "# Import the train_test_learn module\n",
    "from sklearn.model_selection import train_test_split\n",
    "\n",
    "# Split the data using train_test_split\n",
    "# Assigned a random_state of 1 to the function\n",
    "\n",
    "from sklearn.model_selection import train_test_split\n",
    "\n",
    "X_train, X_test, y_train, y_test = train_test_split(X, \n",
    "                                                    y, \n",
    "                                                    random_state=1, \n",
    "                                                    stratify=y)\n",
    "X_train.shape"
   ]
  },
  {
   "cell_type": "code",
   "execution_count": 37,
   "id": "1e3406c6",
   "metadata": {},
   "outputs": [
    {
     "data": {
      "text/plain": [
       "LogisticRegression(random_state=1)"
      ]
     },
     "execution_count": 37,
     "metadata": {},
     "output_type": "execute_result"
    }
   ],
   "source": [
    "# Import the LogisticRegression module from SKLearn\n",
    "from sklearn.linear_model import LogisticRegression\n",
    "\n",
    "# Instantiate the Logistic Regression model\n",
    "# Assign a random_state parameter of 1 to the model\n",
    "# YOUR CODE HERE!\n",
    "\n",
    "from sklearn.linear_model import LogisticRegression\n",
    "classifier = LogisticRegression(solver='lbfgs',\n",
    "                                random_state=1)\n",
    "classifier\n",
    "\n",
    "# Fit the model using training data\n",
    "classifier.fit(X_train, y_train)"
   ]
  },
  {
   "cell_type": "code",
   "execution_count": 38,
   "id": "82e30075",
   "metadata": {},
   "outputs": [],
   "source": [
    "predictions = classifier.predict(X_test)"
   ]
  },
  {
   "cell_type": "code",
   "execution_count": 39,
   "id": "42e75d54",
   "metadata": {},
   "outputs": [
    {
     "data": {
      "text/plain": [
       "0.4655314714730026"
      ]
     },
     "execution_count": 39,
     "metadata": {},
     "output_type": "execute_result"
    }
   ],
   "source": [
    "balanced_accuracy_score(y_test, predictions)"
   ]
  },
  {
   "cell_type": "code",
   "execution_count": 40,
   "id": "be7820d7",
   "metadata": {},
   "outputs": [
    {
     "name": "stdout",
     "output_type": "stream",
     "text": [
      "[[1705   78    0]\n",
      " [ 197  155    0]\n",
      " [   1   29    0]]\n"
     ]
    }
   ],
   "source": [
    "c_matrix = confusion_matrix(y_test, predictions)\n",
    "print(c_matrix)"
   ]
  },
  {
   "cell_type": "code",
   "execution_count": 41,
   "id": "7c912689",
   "metadata": {},
   "outputs": [
    {
     "name": "stdout",
     "output_type": "stream",
     "text": [
      "              precision    recall  f1-score   support\n",
      "\n",
      "         0.0       0.90      0.96      0.93      1783\n",
      "         1.0       0.59      0.44      0.50       352\n",
      "         2.0       0.00      0.00      0.00        30\n",
      "\n",
      "    accuracy                           0.86      2165\n",
      "   macro avg       0.50      0.47      0.48      2165\n",
      "weighted avg       0.83      0.86      0.84      2165\n",
      "\n"
     ]
    },
    {
     "name": "stderr",
     "output_type": "stream",
     "text": [
      "C:\\Users\\Luis Santamaria\\anaconda3\\lib\\site-packages\\sklearn\\metrics\\_classification.py:1318: UndefinedMetricWarning: Precision and F-score are ill-defined and being set to 0.0 in labels with no predicted samples. Use `zero_division` parameter to control this behavior.\n",
      "  _warn_prf(average, modifier, msg_start, len(result))\n",
      "C:\\Users\\Luis Santamaria\\anaconda3\\lib\\site-packages\\sklearn\\metrics\\_classification.py:1318: UndefinedMetricWarning: Precision and F-score are ill-defined and being set to 0.0 in labels with no predicted samples. Use `zero_division` parameter to control this behavior.\n",
      "  _warn_prf(average, modifier, msg_start, len(result))\n",
      "C:\\Users\\Luis Santamaria\\anaconda3\\lib\\site-packages\\sklearn\\metrics\\_classification.py:1318: UndefinedMetricWarning: Precision and F-score are ill-defined and being set to 0.0 in labels with no predicted samples. Use `zero_division` parameter to control this behavior.\n",
      "  _warn_prf(average, modifier, msg_start, len(result))\n"
     ]
    }
   ],
   "source": [
    "class_report = classification_report(y_test, predictions)\n",
    "print(class_report)"
   ]
  },
  {
   "cell_type": "code",
   "execution_count": null,
   "id": "9085ed90",
   "metadata": {},
   "outputs": [],
   "source": []
  }
 ],
 "metadata": {
  "kernelspec": {
   "display_name": "Python 3 (ipykernel)",
   "language": "python",
   "name": "python3"
  },
  "language_info": {
   "codemirror_mode": {
    "name": "ipython",
    "version": 3
   },
   "file_extension": ".py",
   "mimetype": "text/x-python",
   "name": "python",
   "nbconvert_exporter": "python",
   "pygments_lexer": "ipython3",
   "version": "3.9.13"
  }
 },
 "nbformat": 4,
 "nbformat_minor": 5
}
